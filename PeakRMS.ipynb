{
 "cells": [
  {
   "cell_type": "markdown",
   "metadata": {},
   "source": [
    "# RMS/Peak matrix"
   ]
  },
  {
   "cell_type": "markdown",
   "metadata": {},
   "source": [
    "In this notebook we will design and use filters to extract specific audio information from a piece of music."
   ]
  },
  {
   "cell_type": "code",
   "execution_count": null,
   "metadata": {},
   "outputs": [],
   "source": [
    "%matplotlib inline\n",
    "%pylab inline\n",
    "import matplotlib.pyplot as plt\n",
    "import numpy as np\n",
    "import IPython\n",
    "from IPython.display import Image\n",
    "import scipy.signal as sp\n",
    "from scipy.io import wavfile\n",
    "\n",
    "gray();"
   ]
  },
  {
   "cell_type": "markdown",
   "metadata": {},
   "source": [
    "Let's load an audio clip; we assume PCM mono format with 16 bits per sample. Change the code accordingly for other formats. Audio is normalized over the $[-1, 1]$ interval."
   ]
  },
  {
   "cell_type": "code",
   "execution_count": null,
   "metadata": {
    "scrolled": true
   },
   "outputs": [],
   "source": [
    "SF, s = wavfile.read('beethoven.wav')\n",
    "# normalize amplitude\n",
    "s = s / 32767.0\n",
    "\n",
    "IPython.display.Audio(s, rate=SF)"
   ]
  },
  {
   "cell_type": "markdown",
   "metadata": {},
   "source": [
    "Helper function to return rounded dB values. Max reference value is 1 because of audio normalization"
   ]
  },
  {
   "cell_type": "code",
   "execution_count": null,
   "metadata": {},
   "outputs": [],
   "source": [
    "def idB(val):\n",
    "    if val == 0:\n",
    "        return 120\n",
    "    return int(-20 * np.log10(val))"
   ]
  },
  {
   "cell_type": "markdown",
   "metadata": {},
   "source": [
    "The following parameters define the granularity of the analysis:"
   ]
  },
  {
   "cell_type": "code",
   "execution_count": null,
   "metadata": {},
   "outputs": [],
   "source": [
    "WIN_LEN_MS = 40 # length of the analysis window in milliseconds\n",
    "WIN_OVERLAP = 0 # window overlap (percentage between 0 and 1)"
   ]
  },
  {
   "cell_type": "markdown",
   "metadata": {},
   "source": [
    "Let's analyze the audio:"
   ]
  },
  {
   "cell_type": "code",
   "execution_count": null,
   "metadata": {},
   "outputs": [],
   "source": [
    "# convert ms to samples\n",
    "win_len = int((WIN_LEN_MS * SF) / 1000.0)\n",
    "win_ovr = int(win_len * WIN_OVERLAP)\n",
    "\n",
    "# initialize matrix\n",
    "res = np.zeros((121, 121))\n",
    "\n",
    "# scan audio\n",
    "for n in xrange(0, len(s) - win_len, win_len - win_ovr):\n",
    "    w = s[n:n+win_len] \n",
    "    pm = idB(max(w))\n",
    "    rms = idB(np.sqrt(np.mean(np.square(w))))\n",
    "    res[pm, rms] += 1"
   ]
  },
  {
   "cell_type": "code",
   "execution_count": null,
   "metadata": {},
   "outputs": [],
   "source": [
    "# normalize matrix range so that max is black and min is white\n",
    "m = np.max(res)\n",
    "res = 1 - res / m"
   ]
  },
  {
   "cell_type": "code",
   "execution_count": null,
   "metadata": {},
   "outputs": [],
   "source": [
    "plt.matshow(res); \n",
    "plt.gca().invert_xaxis()\n",
    "plt.plot([0,120], [0, 120], linewidth=0.2)\n",
    "plt.plot([10,120], [0, 110], linewidth=0.2)\n",
    "plt.plot([0,110], [10, 120], linewidth=0.2)"
   ]
  },
  {
   "cell_type": "code",
   "execution_count": null,
   "metadata": {},
   "outputs": [],
   "source": []
  }
 ],
 "metadata": {
  "kernelspec": {
   "display_name": "Python 2",
   "language": "python",
   "name": "python2"
  },
  "language_info": {
   "codemirror_mode": {
    "name": "ipython",
    "version": 2
   },
   "file_extension": ".py",
   "mimetype": "text/x-python",
   "name": "python",
   "nbconvert_exporter": "python",
   "pygments_lexer": "ipython2",
   "version": "2.7.14"
  }
 },
 "nbformat": 4,
 "nbformat_minor": 2
}
