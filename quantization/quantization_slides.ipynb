{
 "cells": [
  {
   "cell_type": "code",
   "execution_count": 1,
   "metadata": {
    "slideshow": {
     "slide_type": "skip"
    }
   },
   "outputs": [],
   "source": [
    "import numpy as np\n",
    "import matplotlib.pyplot as plt\n",
    "import scipy.linalg as spla\n",
    "import scipy.signal as signal\n",
    "import IPython.display as ipd\n",
    "import soundfile as sf\n",
    "import ipywidgets as ipw\n",
    "import scipy.io.wavfile as wavfile\n",
    "from stft_helpers import stft_window, stft\n",
    "\n",
    "%matplotlib inline"
   ]
  },
  {
   "cell_type": "code",
   "execution_count": 2,
   "metadata": {
    "slideshow": {
     "slide_type": "skip"
    }
   },
   "outputs": [],
   "source": [
    "def quantize(x, step, midrise=False):\n",
    "    if midrise:\n",
    "        y = np.floor(x / step) * step + step / 2\n",
    "    else:\n",
    "        y = np.floor(x / step + 0.5) * step\n",
    "    return y\n",
    "\n",
    "def dither_rpdf(step_size, n):\n",
    "    return (np.random.random(n) - 0.5) * step_size\n",
    "\n",
    "def dither_tpdf(step_size, n):\n",
    "    return dither_rpdf(step_size, n) + dither_rpdf(step_size, n)\n",
    "\n",
    "def quantize_ns(x, dither, b_h, a_h, step, midrise=False):\n",
    "    a_h = np.append(a_h, 0) if len(a_h) == 1 else a_h\n",
    "    y = np.zeros(x.shape)\n",
    "    x_i = np.zeros(len(b_h))\n",
    "    y_i = np.zeros(len(a_h)-1)\n",
    "    for i, s in enumerate(x):\n",
    "        h_o = (np.dot(x_i, b_h) - np.dot(y_i, a_h[1:])) / a_h[0]\n",
    "        s_d = s - h_o\n",
    "        y[i] = quantize(s_d + dither[i], step, midrise)\n",
    "        e = y[i] - s_d\n",
    "        x_i = np.append(e, x_i[0:-1])\n",
    "        y_i = np.append(h_o, y_i[0:-1])\n",
    "    return y"
   ]
  },
  {
   "cell_type": "markdown",
   "metadata": {
    "slideshow": {
     "slide_type": "slide"
    }
   },
   "source": [
    "# Quantization: from simple division to dither and noise shaping\n",
    "\n",
    "## Tsividis' paradox II\n",
    "\n",
    "## TAM, December 16th, 2020\n",
    "\n",
    "### Mihailo Kolundzija"
   ]
  },
  {
   "cell_type": "markdown",
   "metadata": {
    "slideshow": {
     "slide_type": "slide"
    }
   },
   "source": [
    "## Quantization\n",
    "\n",
    "### When and where\n",
    "- A/D conversion, usually following sampling: from infinite to finite precision\n",
    "- Requantization in digital domain: conversion between digital representations\n",
    "\n",
    "### Puzzle"
   ]
  },
  {
   "cell_type": "code",
   "execution_count": 3,
   "metadata": {},
   "outputs": [
    {
     "data": {
      "application/vnd.jupyter.widget-view+json": {
       "model_id": "806c2cc3d37040ee90396daf5129c5c4",
       "version_major": 2,
       "version_minor": 0
      },
      "text/plain": [
       "Button(description='sum(x) == sum(y) ?', style=ButtonStyle())"
      ]
     },
     "metadata": {},
     "output_type": "display_data"
    }
   ],
   "source": [
    "n = 10\n",
    "x = np.random.randn(n)\n",
    "y = np.sort(x)\n",
    "def compare_sum(change):\n",
    "    print(np.sum(x) == np.sum(y))\n",
    "\n",
    "run_button = ipw.Button(description='sum(x) == sum(y) ?')\n",
    "run_button.on_click(compare_sum)\n",
    "display(run_button)"
   ]
  },
  {
   "cell_type": "markdown",
   "metadata": {
    "slideshow": {
     "slide_type": "slide"
    }
   },
   "source": [
    "## Quantization\n",
    "\n",
    "### Notation\n",
    "- Quantized signal $x$ with values in range $[s_{\\it min},s_{\\it max}]$\n",
    "- $[s_{\\it min},s_{\\it max}]$ divided into $N$ non-overlapping subintervals\n",
    "- $N$ is oftentimes a power of 2 ($N=2^b$), the quantizer characterized as $b$-bit\n",
    "- Quantizer maps input to the index (value between $0$ and $N-1$) of the subinterval that contains the input\n",
    "- Instead of the index, the quantizer is usually considered to output the center of the corresponding interval"
   ]
  },
  {
   "cell_type": "markdown",
   "metadata": {
    "slideshow": {
     "slide_type": "slide"
    }
   },
   "source": [
    "## Uniform quantizer\n",
    "- The most common quantizer type: quantization subintervals are of equal size $\\Delta$\n",
    "- $\\Delta$ commonly called **quantization step size** or **1 LSB**\n",
    "\n",
    "### Uniform quantizer types\n",
    "1. **Mid-tread quantizer** or **quantizer with a deadzone**\n",
    "$$ Q(x) = \\left\\lfloor \\frac{x + 0.5}{\\Delta} \\right\\rfloor $$\n",
    "2. **Mid-rise quantizer**\n",
    "$$ Q(x) = \\left\\lfloor \\frac{x}{\\Delta} \\right\\rfloor + \\frac{\\Delta}{2} $$\n",
    "\n",
    "<center>\n",
    "<img src=\"figures/quantizer_input_output.png\" width=500>\n",
    "</center>"
   ]
  },
  {
   "cell_type": "markdown",
   "metadata": {
    "slideshow": {
     "slide_type": "slide"
    }
   },
   "source": [
    "## Conventional quantization theory\n",
    "- Quantization is a lossy operation\n",
    "- **Quantization error** $e = y - x$\n",
    "\n",
    "### Main assumption\n",
    "- $e$ at any time instant a **uniformly distributed random variable** over $[-\\Delta/2,\\Delta/2)$\n",
    "- $e$ viewed as a time-domain signal is a **white noise process** with zero mean and variance $\\Delta^2/12$\n",
    "\n",
    "### Signal-to-Noise Ratio (SNR)\n",
    "- Expressed in reference to a peak-to-peak sinusoidal signal with amplitude $(s_{\\it max}-s_{\\it min})/2$\n",
    "$$\n",
    "\\text{SNR} = 6.02 b + 1.76 ~\\text{dB}\n",
    "$$\n",
    "\n",
    "- Every bit added to the representation of a signal increases the SNR by 6 dB"
   ]
  },
  {
   "cell_type": "markdown",
   "metadata": {
    "slideshow": {
     "slide_type": "slide"
    }
   },
   "source": [
    "## Quantization error as distortion\n",
    "\n",
    "- The assumption regarding $e$ are correct for a family of inputs with very restrictive statistical properties\n",
    "- There is nothing stochastic about quantizer's operation and $e$ is deterministically related to $x$\n",
    "- $e$ is unlikely to look like noise, especially if the input signal is simple and/or structured\n",
    "- The correlation between $x$ and $e$ becomes apparent as one decreases the quantizer's resolution \n",
    "- Upon listening, quantization error $e$ of a low-resolution quantizer best described as *distortion*\n",
    "- With audiovisuals, distortion appears much more detrimental to the signal than would be the noise of equal power"
   ]
  },
  {
   "cell_type": "code",
   "execution_count": 4,
   "metadata": {
    "slideshow": {
     "slide_type": "skip"
    }
   },
   "outputs": [],
   "source": [
    "# The influence of the number of quantization steps on the quantization error.\n",
    "\n",
    "# Sampling frequency in Hz.\n",
    "fs = 44100\n",
    "# Signal duration in seconds.\n",
    "duration = 5\n",
    "\n",
    "# Number of samples for which we plot the time-domain signals.\n",
    "nt = 600\n",
    "# Regularization constant to avoid taking a log of zero.\n",
    "mu = 1e-6\n",
    "\n",
    "# Define the widgets to control the demo parameters.\n",
    "win_type_dd_1 = ipw.Dropdown(options=['rect', 'hanning', 'hamming'],\n",
    "                           value='hanning', description='Window type',\n",
    "                           disabled=False)\n",
    "\n",
    "fft_size_dd_1 = ipw.Dropdown(options=[256, 512, 1024, 2048, 4096, 8192, 16384],\n",
    "                           value=4096, description='FFT size',\n",
    "                           disabled=False)\n",
    "\n",
    "midrise_dd_1 = ipw.Dropdown(options=[('midrise', True), ('mid-tread', False)],\n",
    "                          value=True, description='Quantizer type', \n",
    "                          disabled=False)\n",
    "\n",
    "a_db_fs_1 = ipw.FloatSlider(\n",
    "    min=-96, max=0, step=-3, value=-6, description='$a$ [dB]')\n",
    "f_fs_1 = ipw.FloatSlider(\n",
    "    min=100, max=5000, step=10, value=440, description='$f_0$')\n",
    "nbits_is_1 = ipw.IntSlider(\n",
    "    min=1, max=24, step=1, value=10, description='$n_{\\it bits}$')\n",
    "\n",
    "demo_out_1 = ipw.Output()\n",
    "\n",
    "default_layout = ipw.Layout(\n",
    "    border='solid 1px black',\n",
    "    margin='0px 10px 10px 0px',\n",
    "    padding='5px 5px 5px 5px')\n",
    "\n",
    "def update_no_dither(a, f, nbits, midrise=False, \n",
    "                     win_type='rect', fft_size=4096):\n",
    "    t = np.arange(0, duration, 1/fs)\n",
    "    x = a * np.sin(2 * np.pi * f * t + 1)\n",
    "    step_size = 2 / 2**nbits\n",
    "    \n",
    "    # Prepare the windowing function.\n",
    "    win = stft_window(fft_size, fft_size, win_type=win_type)\n",
    "    # Work with a 50% overlap.\n",
    "    hop_size = fft_size // 2\n",
    "    \n",
    "    y = quantize(x, step_size, midrise)\n",
    "    e = x - y\n",
    "    \n",
    "    # Create RPDF dither to serve as the ideal noise power reference.\n",
    "    d_rpdf = dither_rpdf(step_size, len(t))\n",
    "    \n",
    "    # Compute the spectra of y and e by averaging the STFT magnitude.\n",
    "    _, f_n, Y_s = stft(y, win, hop_size)\n",
    "    _, _, E_s = stft(e, win, hop_size)\n",
    "    _, _, R_s = stft(d_rpdf, win, hop_size)\n",
    "    Y = np.mean(np.abs(Y_s), axis=1)\n",
    "    E = np.mean(np.abs(E_s), axis=1)\n",
    "    R = np.mean(np.abs(R_s), axis=1)\n",
    "    # Convert normalized to absolute frequencies.\n",
    "    freqs = f_n * fs\n",
    "    \n",
    "    e_mean = np.mean(e)\n",
    "    \n",
    "    e_pow_theory = step_size**2 / 12\n",
    "    e_pow = np.mean(e**2)\n",
    "    x_pow = np.mean(x**2)\n",
    "\n",
    "    snr_theory = 20 * np.log10(2) * nbits + 10 * np.log10(1.5) + 20 * np.log10(a)\n",
    "    snr = 10 * np.log10(x_pow / e_pow) \n",
    "    \n",
    "    # Extreme value for plotted vertical lines giving harmonics.\n",
    "    Y_max = 20 * np.log10(np.max(np.abs(Y)))\n",
    "    Y_min = 20 * np.log10(np.min(np.abs(Y)) + mu)\n",
    "    E_max = 20 * np.log10(np.max(np.abs(E)))\n",
    "    E_min = 20 * np.log10(np.min(np.abs(E)) + mu)\n",
    "    R_max = 20 * np.log10(np.max(np.abs(R)))\n",
    "    R_min = 20 * np.log10(np.min(np.abs(R)) + mu)\n",
    "    # Since we're plotting the theoretical noise PSD, account for it.\n",
    "    Y_max = np.maximum(Y_max, R_max)\n",
    "    Y_min = np.minimum(Y_min, R_min)\n",
    "    E_max = np.maximum(E_max, R_max)\n",
    "    E_min = np.minimum(E_min, R_min)\n",
    "    \n",
    "    # Harmonics of the sinusoidal signal to show on plot.\n",
    "    harmonics = np.arange(f, fs/2, f)\n",
    "    \n",
    "    out_text_0 = ipw.Output()\n",
    "    out_text_0.layout = default_layout\n",
    "    out_text_1 = ipw.Output()\n",
    "    out_text_1.layout = default_layout\n",
    "    \n",
    "    with out_text_0:\n",
    "        print('Quantization step size:            {:.4E}'.format(step_size))\n",
    "        print('Quantization error power (theory): {:.4E}'.format(e_pow_theory))\n",
    "        print('Quantization error power:          {:.4E}'.format(e_pow))\n",
    "    with out_text_1:\n",
    "        print('SNR (theory): {:.4f} dB'.format(snr_theory))\n",
    "        print('SNR:          {:.4f} dB'.format(snr))\n",
    "        \n",
    "    audio_out_0 = ipw.Output()\n",
    "    audio_out_1 = ipw.Output()\n",
    "    audio_out_2 = ipw.Output()\n",
    "    \n",
    "    with audio_out_0:\n",
    "        print('Original')\n",
    "        display(ipd.Audio(data=np.clip(x, -1, 1), rate=fs, normalize=False))\n",
    "    with audio_out_1:\n",
    "        print('Quantized')\n",
    "        display(ipd.Audio(data=np.clip(y, -1, 1), rate=fs, normalize=False))\n",
    "    with audio_out_2:\n",
    "        print('Quantization error')\n",
    "        display(ipd.Audio(data=np.clip(e, -1, 1), rate=fs, normalize=False))\n",
    "    \n",
    "    text_group = ipw.HBox([out_text_0, out_text_1])\n",
    "    audio_group = ipw.HBox([audio_out_0, audio_out_1, audio_out_2])\n",
    "    audio_group.layout = default_layout\n",
    "    \n",
    "    demo_out_1.clear_output()\n",
    "    \n",
    "    figure_out = ipw.Output()\n",
    "    figure_out.layout = default_layout\n",
    "    with figure_out:\n",
    "        plt.figure(figsize=(15, 6))\n",
    "\n",
    "        plt.subplot(2, 2, 1)\n",
    "        plt.plot(t[:nt], y[:nt], color='b')\n",
    "        plt.xlabel('t [s]')\n",
    "        plt.title('Quantizer output $y$')\n",
    "        plt.grid()\n",
    "\n",
    "        plt.subplot(2, 2, 3)\n",
    "        plt.plot(t[:nt], e[:nt], color='b')\n",
    "        plt.xlabel('t [s]')\n",
    "        plt.title('Quantization error $e$')\n",
    "        plt.grid()\n",
    "\n",
    "        plt.subplot(2, 2, 2)\n",
    "        plt.vlines(harmonics, Y_min, Y_max, label='$f_0$ harmonics', \n",
    "                   colors='yellow', linestyles='dashed')\n",
    "        plt.plot(freqs, 20 * np.log10(np.abs(Y)+mu), \n",
    "                 color='b', label='$Y(f)$')\n",
    "        plt.plot(freqs, 20 * np.log10(np.abs(R)+mu), \n",
    "                 color='red', label='$Ref. noise PSD$')\n",
    "        plt.xlabel('f [Hz]')\n",
    "        plt.title('Spectrum $Y(f)$ of the quantized signal')\n",
    "        plt.legend()\n",
    "        plt.grid()\n",
    "\n",
    "        plt.subplot(2, 2, 4)\n",
    "        plt.vlines(harmonics, E_min, E_max, label='$f_0$ harmonics', \n",
    "                   color='yellow', linestyles='dashed')\n",
    "        plt.plot(freqs, 20 * np.log10(np.abs(E)+mu), \n",
    "                 color='b', label='$E(f)$')\n",
    "        plt.plot(freqs, 20 * np.log10(np.abs(R)+mu), \n",
    "                 color='red', label='$Ref. noise PSD$')\n",
    "        plt.xlabel('f [Hz]')\n",
    "        plt.title('Spectrum $E(f)$ of the quantization error')\n",
    "        plt.legend()\n",
    "        plt.grid()\n",
    "\n",
    "        plt.tight_layout()\n",
    "\n",
    "        plt.show()\n",
    "    \n",
    "    with demo_out_1:\n",
    "        display(text_group)\n",
    "        display(audio_group)\n",
    "        display(figure_out)\n",
    "        \n",
    "def click_no_dither(change):\n",
    "    update_no_dither(a=10**(a_db_fs_1.value/20),\n",
    "                     f=f_fs_1.value,\n",
    "                     nbits=nbits_is_1.value,\n",
    "                     win_type=win_type_dd_1.value, \n",
    "                     fft_size=fft_size_dd_1.value,\n",
    "                     midrise=midrise_dd_1.value)\n",
    "\n",
    "# Group widgets to have the desired looks.\n",
    "sliders_1 = ipw.HBox([a_db_fs_1, f_fs_1, nbits_is_1])\n",
    "sliders_1.layout = default_layout\n",
    "dropdowns_1 = ipw.HBox([midrise_dd_1, win_type_dd_1, fft_size_dd_1])\n",
    "dropdowns_1.layout = default_layout\n",
    "controls_1 = ipw.VBox([sliders_1, dropdowns_1])\n",
    "controls_1.layout = default_layout\n",
    "run_button_1 = ipw.Button(description='Run')\n",
    "run_button_1.on_click(click_no_dither)"
   ]
  },
  {
   "cell_type": "markdown",
   "metadata": {
    "slideshow": {
     "slide_type": "slide"
    }
   },
   "source": [
    "### Quantization distortion demo"
   ]
  },
  {
   "cell_type": "code",
   "execution_count": 5,
   "metadata": {
    "slideshow": {
     "slide_type": "-"
    }
   },
   "outputs": [
    {
     "data": {
      "application/vnd.jupyter.widget-view+json": {
       "model_id": "547e1137bf1f44e2a03551f400dad89a",
       "version_major": 2,
       "version_minor": 0
      },
      "text/plain": [
       "VBox(children=(VBox(children=(HBox(children=(FloatSlider(value=-6.0, description='$a$ [dB]', max=0.0, min=-96.…"
      ]
     },
     "metadata": {},
     "output_type": "display_data"
    }
   ],
   "source": [
    "display(ipw.VBox([controls_1, run_button_1, demo_out_1]))\n",
    "click_no_dither(None)"
   ]
  },
  {
   "cell_type": "markdown",
   "metadata": {
    "slideshow": {
     "slide_type": "slide"
    }
   },
   "source": [
    "## Dithered quantization\n",
    "- Having $e$ appear as noise is more desirable than signal-dependent distortion \n",
    "- Adding noise (analog or digital) called **dither** prior to quantization turns quantization distortion into noise \n",
    "- The price can be a small decrease in SNR"
   ]
  },
  {
   "cell_type": "markdown",
   "metadata": {
    "slideshow": {
     "slide_type": "slide"
    }
   },
   "source": [
    "## Types of dithered quantizers\n",
    "1. Subtractively dithered\n",
    "2. Non-subtractively dithered\n",
    "\n",
    "<center>\n",
    "<img src=\"figures/quantizer_dither.png\" width=400>\n",
    "</center>"
   ]
  },
  {
   "cell_type": "markdown",
   "metadata": {
    "slideshow": {
     "slide_type": "slide"
    }
   },
   "source": [
    "## Subtractively dithered quantizers\n",
    "\n",
    "- Add dither $\\nu$ prior to quantization, but then the same dither $\\nu$ gets subtracted at the receiver\n",
    "- Receiver needs to be in sync with the sender in order to be able to reproduce the same dither\n",
    "\n",
    "### Main result\n",
    "\n",
    "1. One can design simple dither signals which *for any input signal* turn the quantization error $$e=Q(x+\\nu) - \\nu - x$$ into **white noise independent from the input**\n",
    "2. An iid dither uniformly distributed (with RPDF) inside  $[-\\Delta/2,\\Delta/2)$ guarantees that\n",
    "3. With such dither, quantization error's power equals $\\Delta^2/12$, which is precisely what happens in the idealized, conventional (or high-resolution) quantization model"
   ]
  },
  {
   "cell_type": "markdown",
   "metadata": {
    "slideshow": {
     "slide_type": "slide"
    }
   },
   "source": [
    "## Non-subtractively dithered quantizers\n",
    "\n",
    "- Non-subtractively dithered quantizers are more practical, but practicality comes with a price\n",
    "\n",
    "### Main result\n",
    "1. One cannot make quantization error $$ e = Q(x + \\nu) - x $$ statistically independent from the input\n",
    "2. By appropriately choosing dither's pdf, the moments of the quantization error $e$ can be made independent from the input"
   ]
  },
  {
   "cell_type": "markdown",
   "metadata": {
    "slideshow": {
     "slide_type": "slide"
    }
   },
   "source": [
    "## Non-subtractively dithered quantizers\n",
    "\n",
    "### RPDF dither\n",
    "- If dither $\\nu$ has RPDF in $[-\\Delta/2,\\Delta/2)$, the error $e$ is zero-mean irrespective of the input\n",
    "- Power of $e$ is not independent of $x$ and this phenomenon is called **noise modulation**\n",
    "\n",
    "<center>\n",
    "<img src=\"figures/dither_pdf.png\" width=500>\n",
    "</center>\n",
    "\n",
    "### TPDF dither\n",
    "- Dither with TPDF in $[-\\Delta,\\Delta)$ makes $e$ zero-mean and its power independent from $x$ and equal to $\\Delta^2/4$\n",
    "- $e$ is not iid, but **its spectrum is white**"
   ]
  },
  {
   "cell_type": "code",
   "execution_count": 6,
   "metadata": {
    "slideshow": {
     "slide_type": "skip"
    }
   },
   "outputs": [],
   "source": [
    "# What happens when we add the subtractive dither into the picture.\n",
    "\n",
    "# Sampling frequency in Hz.\n",
    "fs = 44100\n",
    "# Signal duration in seconds.\n",
    "duration = 4\n",
    "\n",
    "# Number of samples for which we plot the time-domain signals.\n",
    "nt = 600\n",
    "# Regularization constant to avoid taking a log of zero.\n",
    "mu = 1e-6\n",
    "\n",
    "# Define the widgets to control the demo parameters.\n",
    "dither_opt_dd_2 = ipw.Dropdown(\n",
    "    options=['no', 'subtractive', 'non-subtractive'],\n",
    "    value='no', description='Dither: ', disabled=False)\n",
    "\n",
    "dither_type_dd_2 = ipw.Dropdown(\n",
    "    options=['RPDF', 'TPDF'],\n",
    "    value='RPDF', description='Dither type: ',\n",
    "    disabled=False)\n",
    "\n",
    "midrise_dd_2 = ipw.Dropdown(\n",
    "    options=[('midrise', True), ('mid-tread', False)],\n",
    "    value=True, description='Quantizer type',\n",
    "    disabled=False)\n",
    "\n",
    "win_type_dd_2 = ipw.Dropdown(\n",
    "    options=['rect', 'hanning', 'hamming'],\n",
    "    value='hanning', description='Window type',\n",
    "    disabled=False)\n",
    "\n",
    "fft_size_dd_2 = ipw.Dropdown(\n",
    "    options=[256, 512, 1024, 2048, 4096, 8192, 16384],\n",
    "    value=4096, description='FFT size',\n",
    "    disabled=False)\n",
    "\n",
    "a_fs_2 = ipw.FloatSlider(\n",
    "    min=0, max=1, step=0.001, value=0.5, description='$a$')\n",
    "f_fs_2 = ipw.FloatSlider(\n",
    "    min=100, max=5000, step=10, value=440, description='$f_0$')\n",
    "nbits_is_2 = ipw.IntSlider(\n",
    "    min=1, max=24, step=1, value=10, description='$n_{\\it bits}$')\n",
    "\n",
    "demo_out_2 = ipw.Output()\n",
    "\n",
    "default_layout = ipw.Layout(\n",
    "    border='solid 1px black',\n",
    "    margin='0px 10px 10px 0px',\n",
    "    padding='5px 5px 5px 5px')\n",
    "\n",
    "def update_dither(\n",
    "    a, f, nbits, midrise=False, \n",
    "    dither_opt='no', dither_type='rpdf',\n",
    "    win_type='rect', fft_size=4096):\n",
    "    \n",
    "    t = np.arange(0, duration, 1/fs)\n",
    "    x = a * np.sin(2 * np.pi * f * t + 1)\n",
    "    step_size = 2 / 2**nbits\n",
    "    \n",
    "    # Prepare the windowing function.\n",
    "    win = stft_window(fft_size, fft_size, win_type=win_type)\n",
    "    # Work with a 50% overlap.\n",
    "    hop_size = fft_size // 2\n",
    "    \n",
    "    snr_reduction = 0\n",
    "    e_pow_mul_increase = 1\n",
    "    \n",
    "    if dither_type.lower() == 'rpdf':\n",
    "        d = dither_rpdf(step_size, len(t))\n",
    "        snr_reduction = 10 * np.log10(2)\n",
    "        e_pow_mul_increase = 2\n",
    "    elif dither_type.lower() == 'tpdf':\n",
    "        d = dither_tpdf(step_size, len(t))\n",
    "        snr_reduction = 10 * np.log10(3)\n",
    "        e_pow_mul_increase = 3\n",
    "    else:\n",
    "        raise ValueError('Unknown dither type')\n",
    "    \n",
    "    snr_theory = 20 * np.log10(2) * nbits + 10 * np.log10(1.5)\n",
    "    # Correct for signal's amplitude.\n",
    "    snr_theory += 20 * np.log10(a)\n",
    "    e_pow_theory = step_size**2 / 12\n",
    "    \n",
    "    if dither_opt.lower() == 'no':\n",
    "        y = quantize(x, step_size, midrise)\n",
    "    elif dither_opt.lower() == 'subtractive':\n",
    "        e_pow_mul_increase = 1\n",
    "        y = quantize(x + d, step_size, midrise) - d\n",
    "    elif dither_opt.lower() == 'non-subtractive':\n",
    "        y = quantize(x + d, step_size, midrise)\n",
    "        snr_theory -= snr_reduction\n",
    "        e_pow_theory *= e_pow_mul_increase\n",
    "    else:\n",
    "        raise ValueError('Unknown dithering subtraction scheme')\n",
    "    \n",
    "    # Create RPDF dither to serve as the ideal noise power reference.\n",
    "    d_rpdf = dither_rpdf(step_size, len(t))\n",
    "        \n",
    "    e = y - x\n",
    "    \n",
    "    # Compute the spectra of the quantizer's output and error.\n",
    "    _, f_n, Y_s = stft(y, win, hop_size)\n",
    "    _, _, E_s = stft(e, win, hop_size)\n",
    "    _, _, D_s = stft(d, win, hop_size)\n",
    "    _, _, R_s = stft(d_rpdf, win, hop_size)\n",
    "    Y = np.mean(np.abs(Y_s), axis=1)\n",
    "    E = np.mean(np.abs(E_s), axis=1)\n",
    "    D = np.mean(np.abs(D_s), axis=1)\n",
    "    R = np.mean(np.abs(R_s), axis=1)\n",
    "    # Convert normalized to absolute frequencies.\n",
    "    freqs = f_n * fs\n",
    "    \n",
    "    # Compute the stats.\n",
    "    e_mean = np.mean(e)\n",
    "    e_pow = np.mean(e**2)\n",
    "    d_pow = np.mean(d**2)\n",
    "    x_pow = np.mean(x**2)\n",
    "    r_pow = np.mean(d_rpdf**2)\n",
    "\n",
    "    snr = 10 * np.log10(x_pow / e_pow)\n",
    "    \n",
    "    # Extreme value for plotted vertical lines showing harmonics.\n",
    "    Y_max = 20 * np.log10(np.max(np.abs(Y)))\n",
    "    Y_min = 20 * np.log10(np.min(np.abs(Y)) + mu)\n",
    "    E_max = 20 * np.log10(np.max(np.abs(E)))\n",
    "    E_min = 20 * np.log10(np.min(np.abs(E)) + mu)\n",
    "    R_max = 20 * np.log10(np.max(np.abs(R)))\n",
    "    R_min = 20 * np.log10(np.min(np.abs(R)) + mu)\n",
    "    # Since we're plotting the theoretical noise PSD, account for them.\n",
    "    Y_max = np.maximum(Y_max, R_max)\n",
    "    Y_min = np.minimum(Y_min, R_min)\n",
    "    E_max = np.maximum(E_max, R_max)\n",
    "    E_min = np.minimum(E_min, R_min)\n",
    "    \n",
    "    # Harmonics of the sinusoid's frequency to show on plots.\n",
    "    harmonics = np.arange(f, fs/2, f)\n",
    "    \n",
    "    out_text_0 = ipw.Output()\n",
    "    out_text_0.layout = default_layout\n",
    "    out_text_1 = ipw.Output()\n",
    "    out_text_1.layout = default_layout\n",
    "    \n",
    "    with out_text_0:\n",
    "        print('Quantization step size: {:.4E}'.format(step_size))\n",
    "        print('Noise power (theory):   {:.4E}'.format(e_pow_theory))\n",
    "        print('Noise power:            {:.4E}'.format(e_pow))\n",
    "    with out_text_1:\n",
    "        print('Dither power: {:.4E}'.format(d_pow))\n",
    "        print('SNR (theory): {:.4f} dB'.format(snr_theory))\n",
    "        print('SNR:          {:.4f} dB'.format(snr))\n",
    "        \n",
    "    audio_out_0 = ipw.Output()\n",
    "    audio_out_1 = ipw.Output()\n",
    "    audio_out_2 = ipw.Output()\n",
    "    \n",
    "    with audio_out_0:\n",
    "        print('Original')\n",
    "        display(ipd.Audio(data=np.clip(x, -1, 1), \n",
    "                              rate=fs, normalize=False))\n",
    "    with audio_out_1:\n",
    "        print('Quantized')\n",
    "        display(ipd.Audio(data=np.clip(y, -1, 1), \n",
    "                              rate=fs, normalize=False))\n",
    "    with audio_out_2:\n",
    "        print('Quantization error')\n",
    "        display(ipd.Audio(data=np.clip(e, -1, 1), rate=fs, normalize=False))\n",
    "    \n",
    "    text_group = ipw.HBox([out_text_0, out_text_1])\n",
    "    audio_group = ipw.HBox([audio_out_0, audio_out_1, audio_out_2])\n",
    "    audio_group.layout = default_layout\n",
    "    \n",
    "    demo_out_2.clear_output()\n",
    "    \n",
    "    figure_out = ipw.Output()\n",
    "    figure_out.layout = default_layout\n",
    "\n",
    "    with figure_out:\n",
    "        plt.figure(figsize=(15, 6))\n",
    "\n",
    "        plt.subplot(2, 2, 1)\n",
    "        plt.plot(t[:nt], y[:nt], color='b')\n",
    "        plt.ylim([-1.1, 1.1])\n",
    "        plt.title('Quantizer\\'s output')\n",
    "        plt.ylabel('$y(t)$')\n",
    "        plt.grid()\n",
    "\n",
    "        plt.subplot(2, 2, 3)\n",
    "        plt.plot(t[:nt], e[:nt], color='b')\n",
    "        plt.xlabel('$t$ [s]')\n",
    "        plt.ylabel('$e(t)$')\n",
    "        plt.title('Quantization error')\n",
    "        plt.grid()\n",
    "\n",
    "        plt.subplot(2, 2, 2)\n",
    "        plt.vlines(harmonics, Y_min, Y_max, label='$f_0$ harmonics', \n",
    "                   colors='yellow', linestyles='dashed')\n",
    "        plt.plot(freqs, 20 * np.log10(np.abs(Y)+mu), \n",
    "                 color='blue', label='$Y(f)$')\n",
    "        plt.plot(freqs, 20 * np.log10(np.abs(R)+mu), \n",
    "                 color='red', label='$Ref. noise PSD$')\n",
    "        plt.ylabel('$Y(f)$ [dB]')\n",
    "        plt.title('Quantized signal\\'s spectrum')\n",
    "        plt.legend()\n",
    "        plt.grid()\n",
    "\n",
    "        plt.subplot(2, 2, 4)\n",
    "        plt.vlines(harmonics, E_min, E_max, label='$f_0$ harmonics', \n",
    "                   color='yellow', linestyles='dashed')\n",
    "        plt.plot(freqs, 20 * np.log10(np.abs(E)+mu), \n",
    "                 color='blue', label='$E(f)$')\n",
    "        plt.plot(freqs, 20 * np.log10(np.abs(R)+mu), \n",
    "                 color='red', label='$Ref. noise PSD$')\n",
    "        plt.ylabel('$E(f)$ [dB]')\n",
    "        plt.xlabel('$f$ [Hz]')\n",
    "        plt.title('Quantization error\\'s spectrum')\n",
    "        plt.legend()\n",
    "        plt.grid()\n",
    "\n",
    "        plt.tight_layout()\n",
    "\n",
    "        plt.show()\n",
    "        \n",
    "    with demo_out_2:\n",
    "        display(text_group)\n",
    "        display(audio_group)\n",
    "        display(figure_out)\n",
    "\n",
    "def click_dither(change):\n",
    "    update_dither(\n",
    "        a=a_fs_2.value, f=f_fs_2.value,\n",
    "        nbits=nbits_is_2.value,\n",
    "        midrise=midrise_dd_2.value,\n",
    "        dither_opt=dither_opt_dd_2.value, \n",
    "        dither_type=dither_type_dd_2.value,\n",
    "        win_type=win_type_dd_2.value,\n",
    "        fft_size=fft_size_dd_2.value)\n",
    "\n",
    "# Group widgets to have the desired looks.\n",
    "sliders_2 = ipw.HBox([a_fs_2, f_fs_2, nbits_is_2])\n",
    "sliders_2.layout = default_layout\n",
    "dropdowns0_2 = ipw.HBox([midrise_dd_2, dither_opt_dd_2, dither_type_dd_2])\n",
    "dropdowns1_2 = ipw.HBox([win_type_dd_2, fft_size_dd_2])\n",
    "dropdowns_2 = ipw.VBox([dropdowns0_2, dropdowns1_2])\n",
    "dropdowns_2.layout = default_layout\n",
    "controls_2 = ipw.VBox([sliders_2, dropdowns_2])\n",
    "controls_2.layout = default_layout\n",
    "run_button_2 = ipw.Button(description='Run')\n",
    "run_button_2.on_click(click_dither)"
   ]
  },
  {
   "cell_type": "markdown",
   "metadata": {
    "slideshow": {
     "slide_type": "slide"
    }
   },
   "source": [
    "### Dithered quantization demo"
   ]
  },
  {
   "cell_type": "code",
   "execution_count": 7,
   "metadata": {},
   "outputs": [
    {
     "data": {
      "application/vnd.jupyter.widget-view+json": {
       "model_id": "8bf1ec0c1b1c4e0e89d87a9fa7838034",
       "version_major": 2,
       "version_minor": 0
      },
      "text/plain": [
       "VBox(children=(VBox(children=(HBox(children=(FloatSlider(value=0.5, description='$a$', max=1.0, step=0.001), F…"
      ]
     },
     "metadata": {},
     "output_type": "display_data"
    }
   ],
   "source": [
    "display(ipw.VBox([controls_2, run_button_2, demo_out_2]))\n",
    "click_dither(None)"
   ]
  },
  {
   "cell_type": "code",
   "execution_count": 8,
   "metadata": {
    "slideshow": {
     "slide_type": "skip"
    }
   },
   "outputs": [],
   "source": [
    "# Parameters of the signal.\n",
    "fs = 44100\n",
    "duration = 4\n",
    "amplitude = 0.5\n",
    "\n",
    "# STFT parameters.\n",
    "fft_size = 4096\n",
    "win_type = 'hanning'\n",
    "hop_size = fft_size // 2\n",
    "\n",
    "# Prepare the windowing function.\n",
    "win_3 = stft_window(fft_size, fft_size, win_type=win_type)\n",
    "\n",
    "f_fs_3 = ipw.FloatSlider(\n",
    "    min=100, max=5000, step=10, value=440, description='$f_0$')\n",
    "\n",
    "nbits_is_3 = ipw.IntSlider(\n",
    "    min=1, max=24, step=1, value=4, \n",
    "    description='$n_{\\it bits}$', continuous_update=False)\n",
    "\n",
    "midrise_cb_3 = ipw.Checkbox(description='midrise', value=True)\n",
    "\n",
    "demo_out_3 = ipw.Output()\n",
    "\n",
    "# Prepare the source signal by applying a ramp to it.\n",
    "t = np.arange(0, duration, 1/fs)\n",
    "\n",
    "def update_noise_modulation(f=440, nbits=4, midrise=True, win=win_3):\n",
    "    x = amplitude * np.sin(2 * np.pi * f * t + 1)\n",
    "    x = x * np.linspace(0, 1, len(t))\n",
    "    n = len(t)\n",
    "    \n",
    "    nsteps = 2**nbits\n",
    "    # We assume that the signal amplitude is in interval [-1, 1]\n",
    "    step_size = 2 / nsteps\n",
    "\n",
    "    t_stft, f_stft, x_stft = stft(x, win, hop_size)\n",
    "    x_psd = np.abs(x_stft)**2\n",
    "    x_pow = np.sum(np.abs(x_psd), axis=0)\n",
    "\n",
    "    # Prepare the dither (RPDF and TPDF).\n",
    "    d_rpdf = dither_rpdf(step_size, n)\n",
    "    d_tpdf = dither_tpdf(step_size, n)\n",
    "\n",
    "    # Perform quantization -- without and with dither.\n",
    "    y_ramp_nq = quantize(x, step_size, midrise)\n",
    "    y_ramp_rpdf = quantize(x + d_rpdf, step_size, midrise)\n",
    "    y_ramp_tpdf = quantize(x + d_tpdf, step_size, midrise)\n",
    "\n",
    "    # Compute quantization error.\n",
    "    e_ramp_nq = y_ramp_nq - x\n",
    "    e_ramp_rpdf = y_ramp_rpdf - x\n",
    "    e_ramp_tpdf = y_ramp_tpdf - x\n",
    "\n",
    "    # Compute the exponentially-averaged PSD in the STFT domain.\n",
    "    _, _, e_ramp_nq_stft = stft(e_ramp_nq, win, hop_size)\n",
    "    e_ramp_nq_psd = np.abs(e_ramp_nq_stft)**2\n",
    "    _, _, e_ramp_rpdf_stft = stft(e_ramp_rpdf, win, hop_size)\n",
    "    e_ramp_rpdf_psd = np.abs(e_ramp_rpdf_stft)**2\n",
    "    _, _, e_ramp_tpdf_stft = stft(e_ramp_tpdf, win, hop_size)\n",
    "    e_ramp_tpdf_psd = np.abs(e_ramp_tpdf_stft)**2\n",
    "\n",
    "    # Compute the change of power in time from the STFT represenation.\n",
    "    e_ramp_nq_pow = np.sum(np.abs(e_ramp_nq_psd), axis=0)\n",
    "    e_ramp_rpdf_pow = np.sum(np.abs(e_ramp_rpdf_psd), axis=0)\n",
    "    e_ramp_tpdf_pow = np.sum(np.abs(e_ramp_tpdf_psd), axis=0)\n",
    "\n",
    "    # Compute the average PSD over time.\n",
    "    e_ramp_nq_spec = np.sum(np.abs(e_ramp_nq_psd), axis=1)\n",
    "    e_ramp_rpdf_spec = np.sum(np.abs(e_ramp_rpdf_psd), axis=1)\n",
    "    e_ramp_tpdf_spec = np.sum(np.abs(e_ramp_tpdf_psd), axis=1)\n",
    "\n",
    "    audio_out_0 = ipw.Output()\n",
    "    with audio_out_0:\n",
    "        label = 'Original'\n",
    "        display(ipw.Label(label))\n",
    "        display(ipd.Audio(data=np.clip(x, -1, 1), \n",
    "                          rate=fs, normalize=False))\n",
    "    audio_out_1 = ipw.Output()\n",
    "    with audio_out_1:\n",
    "        label = 'Quantized w/ RPDF dither'\n",
    "        display(ipw.Label(label))\n",
    "        display(ipd.Audio(data=np.clip(y_ramp_rpdf, -1, 1), \n",
    "                              rate=fs, normalize=False))\n",
    "    audio_out_2 = ipw.Output()\n",
    "    with audio_out_2:\n",
    "        label = 'Quantized w/ TPDF dither'\n",
    "        display(ipw.Label(label))\n",
    "        display(ipd.Audio(data=np.clip(y_ramp_tpdf, -1, 1), \n",
    "                              rate=fs, normalize=False))\n",
    "    audio_out_3 = ipw.Output()\n",
    "    with audio_out_3:\n",
    "        label = 'Quantization error w/ RPDF dither'\n",
    "        display(ipw.Label(label))\n",
    "        display(ipd.Audio(data=np.clip(e_ramp_rpdf, -1, 1), \n",
    "                              rate=fs, normalize=False))\n",
    "    audio_out_4 = ipw.Output()\n",
    "    with audio_out_4:\n",
    "        label = 'Quantization error w/ TPDF dither'\n",
    "        display(ipw.Label(label))\n",
    "        display(ipd.Audio(data=np.clip(e_ramp_tpdf, -1, 1), \n",
    "                              rate=fs, normalize=False))\n",
    "\n",
    "    audio_group_1 = ipw.VBox([audio_out_1, audio_out_3])\n",
    "    audio_group_2 = ipw.VBox([audio_out_2, audio_out_4])\n",
    "\n",
    "    audio_pairs = ipw.HBox([audio_out_0, audio_group_1, audio_group_2])\n",
    "    audio_pairs.layout = default_layout\n",
    "\n",
    "    figure_out = ipw.Output()\n",
    "    figure_out.layout = default_layout\n",
    "\n",
    "    with figure_out:\n",
    "        plt.figure(figsize=(8, 5))\n",
    "\n",
    "        # Get maximum and minimum powers for y-axis limits.\n",
    "        e_pow_max = np.max(np.append(e_ramp_rpdf_pow, e_ramp_tpdf_pow))\n",
    "        e_pow_min = np.min(np.append(e_ramp_rpdf_pow, e_ramp_tpdf_pow))\n",
    "\n",
    "        plt.subplot(3, 1, 1)\n",
    "        plt.plot(t_stft / fs, 10 * np.log10(x_pow), color='blue')\n",
    "        plt.ylabel('$P(t)$ [dB]')\n",
    "        plt.title('Signal power over time')\n",
    "        plt.grid()\n",
    "\n",
    "        plt.subplot(3, 1, 2)\n",
    "        plt.plot(t_stft / fs, 10 * np.log10(e_ramp_rpdf_pow), color='blue')\n",
    "        plt.ylabel('$P(t)$ [dB]')\n",
    "        plt.title('Quantization error power over time with RPDF dither')\n",
    "        plt.ylim(10*np.log10(e_pow_min)-1, 10*np.log10(e_pow_max)+1)\n",
    "        plt.grid()\n",
    "\n",
    "        plt.subplot(3, 1, 3)\n",
    "        plt.plot(t_stft / fs, 10 * np.log10(e_ramp_tpdf_pow), color='blue')\n",
    "        plt.xlabel('$t$ [s]')\n",
    "        plt.ylabel('$P(t)$ [dB]')\n",
    "        plt.title('Quantization error power over time with TPDF dither')\n",
    "        plt.ylim(10*np.log10(e_pow_min)-1, 10*np.log10(e_pow_max)+1)\n",
    "        plt.grid()\n",
    "\n",
    "        plt.tight_layout()\n",
    "        plt.show()\n",
    "    \n",
    "    demo_out_3.clear_output()\n",
    "    with demo_out_3:\n",
    "        display(ipw.VBox([audio_pairs, figure_out]))\n",
    "        \n",
    "def click_noise_modulation(change):\n",
    "    update_noise_modulation(\n",
    "        f=f_fs_3.value, nbits=nbits_is_3.value, midrise=midrise_cb_3.value, win=win_3)\n",
    "\n",
    "controls_3 = ipw.HBox([f_fs_3, nbits_is_3, midrise_cb_3])\n",
    "controls_3.layout = default_layout\n",
    "run_button_3 = ipw.Button(description='Run')\n",
    "run_button_3.on_click(click_noise_modulation)"
   ]
  },
  {
   "cell_type": "markdown",
   "metadata": {
    "slideshow": {
     "slide_type": "slide"
    }
   },
   "source": [
    "### RPDF vs. TPDF dither: noise modulation"
   ]
  },
  {
   "cell_type": "code",
   "execution_count": 9,
   "metadata": {},
   "outputs": [
    {
     "data": {
      "application/vnd.jupyter.widget-view+json": {
       "model_id": "8ccad9135e154a3cb07b896c0f780560",
       "version_major": 2,
       "version_minor": 0
      },
      "text/plain": [
       "VBox(children=(HBox(children=(FloatSlider(value=440.0, description='$f_0$', max=5000.0, min=100.0, step=10.0),…"
      ]
     },
     "metadata": {},
     "output_type": "display_data"
    }
   ],
   "source": [
    "display(ipw.VBox([controls_3, run_button_3, demo_out_3]))\n",
    "click_noise_modulation(None)"
   ]
  },
  {
   "cell_type": "markdown",
   "metadata": {
    "slideshow": {
     "slide_type": "slide"
    }
   },
   "source": [
    "## Noise shaping\n",
    "\n",
    "- Dithered quantizers are able to make the quantization error behave similarly to white noise\n",
    "- Improvements, at least in a perceptual sense, can be obtained by processing the quantization noise\n",
    "- The principal idea is to feed back the quantization error through a filter and subtract it from the input\n",
    "<center>\n",
    "<img src=\"figures/quantizer_noise_shape.png\" width=400>\n",
    "</center>"
   ]
  },
  {
   "cell_type": "markdown",
   "metadata": {
    "slideshow": {
     "slide_type": "slide"
    }
   },
   "source": [
    "## Noise shaping\n",
    "\n",
    "- The output signal $y$ consists of the input $x$ and the quantization error $e$ filtered by $1-h$ $$ y = x + e * (1-h) $$\n",
    "- Filter $h$ is a causal filter with $h_0=0$, namely it has to have a delay of at least one sample\n",
    "- If TPDF dither is used, the quantization error resembles white noise with power spectrum $$P(e^{j\\omega})=\\Delta^2/4$$\n",
    "- The power spectrum of the quantization error with noise shaping is given by $$P(e^{j\\omega})= \\frac{\\Delta^2}{4}|1-H(e^{j\\omega})|^2$$\n",
    "- The noise shaping filter design seeks $1-H(e^{j\\omega})$ that makes quantization noise *least audible*"
   ]
  },
  {
   "cell_type": "markdown",
   "metadata": {
    "slideshow": {
     "slide_type": "slide"
    }
   },
   "source": [
    "## Noise shaping: perceptual motivation\n",
    "\n",
    "- A signal of a given power can appear differently loud at different frequencies ([equal loudness contours](https://en.wikipedia.org/wiki/Equal-loudness_contour))\n",
    "- Loudness of quantization noise reduced optimally when $1-h$ inverts our sensitivity to low-level noise\n",
    "<center>\n",
    "<img src=\"https://upload.wikimedia.org/wikipedia/commons/4/49/Lindos4.svg\" width=360>\n",
    "</center>"
   ]
  },
  {
   "cell_type": "code",
   "execution_count": 10,
   "metadata": {
    "slideshow": {
     "slide_type": "skip"
    }
   },
   "outputs": [],
   "source": [
    "# The influence of the frequency and the loudness of a sinuosid.\n",
    "\n",
    "# Sampling frequency in Hz.\n",
    "fs = 44100\n",
    "# Signal duration in seconds.\n",
    "duration = 5\n",
    "# Frequency of the reference tone (1 kHz).\n",
    "f_ref = 1000\n",
    "\n",
    "t = np.arange(0, duration, 1/fs)\n",
    "\n",
    "a_db_fs_4 = ipw.FloatSlider(\n",
    "    min=-96, max=0, step=-3, value=-40, description='$a$ [dB]')\n",
    "f_fs_4 = ipw.FloatSlider(\n",
    "    min=100, max=15000, step=10, value=440, description='$f_0$')\n",
    "a_ref_db_fs_4 = ipw.FloatSlider(\n",
    "    min=-96, max=0, step=-3, value=-40, description='$a_{\\it ref}$ [dB]')\n",
    "\n",
    "demo_out_4 = ipw.Output()\n",
    "\n",
    "def update_sin_loudness(a, f, a_ref):\n",
    "    x = a * np.sin(2 * np.pi * f * t + 1)\n",
    "    x_ref = a_ref * np.sin(2 * np.pi * f_ref * t + 1)\n",
    "    \n",
    "    audio1_out = ipw.Output()\n",
    "    with audio1_out:\n",
    "        label = 'Ref. tone (f = {:d} Hz)'.format(f_ref)\n",
    "        display(ipw.Label(label))\n",
    "        display(ipd.Audio(data=np.clip(x_ref, -1, 1), rate=fs, normalize=False))\n",
    "    audio2_out = ipw.Output()\n",
    "    with audio2_out:\n",
    "        label = 'Test tone (f = {:.2f} Hz)'.format(f)\n",
    "        display(ipw.Label(label))\n",
    "        display(ipd.Audio(data=np.clip(x, -1, 1), rate=fs, normalize=False))\n",
    "        \n",
    "    audio_group = ipw.HBox([audio1_out, audio2_out])\n",
    "    \n",
    "    demo_out_4.clear_output()\n",
    "    \n",
    "    figure_out = ipw.Output()\n",
    "    figure_out.layout = default_layout\n",
    "    \n",
    "    with demo_out_4:\n",
    "        display(audio_group)\n",
    "        \n",
    "def click_sin_loudness(change):\n",
    "    update_sin_loudness(a=10**(a_db_fs_4.value/20), f=f_fs_4.value,\n",
    "        a_ref=10**(a_ref_db_fs_4.value/20))\n",
    "\n",
    "# Group widgets to have the desired looks.\n",
    "controls_4 = ipw.HBox([a_db_fs_4, f_fs_4, a_ref_db_fs_4])\n",
    "controls_4.layout = default_layout\n",
    "run_button_4 = ipw.Button(description='Run')\n",
    "run_button_4.on_click(click_sin_loudness)"
   ]
  },
  {
   "cell_type": "code",
   "execution_count": 11,
   "metadata": {
    "slideshow": {
     "slide_type": "-"
    }
   },
   "outputs": [
    {
     "data": {
      "application/vnd.jupyter.widget-view+json": {
       "model_id": "2cd433a89c454a8583b33e8d40e76911",
       "version_major": 2,
       "version_minor": 0
      },
      "text/plain": [
       "VBox(children=(HBox(children=(FloatSlider(value=-40.0, description='$a$ [dB]', max=0.0, min=-96.0, step=-3.0),…"
      ]
     },
     "metadata": {},
     "output_type": "display_data"
    }
   ],
   "source": [
    "display(ipw.VBox([controls_4, run_button_4, demo_out_4]))\n",
    "click_sin_loudness(None)"
   ]
  },
  {
   "cell_type": "markdown",
   "metadata": {
    "slideshow": {
     "slide_type": "slide"
    }
   },
   "source": [
    "## Noise shaping: key practical facts\n",
    "\n",
    "- The spectrum of the quantization error with TPDF dither and noise shaping filter is $$ P(e^{j\\omega}) = \\frac{\\Delta^2}{4} |1-H(e^{j\\omega})|^2 $$\n",
    "- Filter $H(e^{j\\omega})$ is computed to minimize the weighted noise power $$ \\frac{1}{2\\pi} \\int_{-\\pi}^{\\pi} P(e^{j\\omega})\\, W(e^{j\\omega})\\, \\mathrm{d}\\omega = \\frac{1}{2\\pi} \\int_{-\\pi}^{\\pi} \\frac{\\Delta^2}{4} |1-H(e^{j\\omega})|^2\\, W(e^{j\\omega})\\, \\mathrm{d}\\omega$$\n",
    "- $W(e^{j\\omega})$ is a non-negative function of frequency that models human auditory system's sensitivity at low noise levels\n",
    "- $W(e^{j\\omega})$ usually derived from the $15$-phon equal loudness contour"
   ]
  },
  {
   "cell_type": "markdown",
   "metadata": {
    "slideshow": {
     "slide_type": "slide"
    }
   },
   "source": [
    "## Noise shaping: key results\n",
    "1. For a noise shaping filter of the form $1-H(e^{j\\omega})$, where $H(e^{j\\omega})$ has no constant terms, we have $$ \\int_{-\\pi}^{\\pi} \\log\\left|1-H(e^{j\\omega})\\right|^2 \\mathrm{d}\\omega \\geq 0; $$ the equality holds when $1-H(e^{j\\omega})$ is [minimum-phase](https://en.wikipedia.org/wiki/Minimum_phase)\n",
    "2. The optimal noise shaping filter $1-H(e^{j\\omega})$ that minimizes the weighted power $$ \\frac{1}{2\\pi} \\int_{-\\pi}^{\\pi} P(e^{j\\omega})\\, W(e^{j\\omega})\\, \\mathrm{d}\\omega $$ is minimum-phase and satisfies $$ |1-H(e^{j\\omega})|^2 = \\frac{w}{W(e^{j\\omega})} $$\n",
    "3. Given the result in point (1), the constant $w$ easily obtained and has the value $$ w = \\exp\\left({\\frac{1}{2\\pi} \\int_{-\\pi}^{\\pi} W(e^{j\\omega}) \\mathrm{d}\\omega}\\right) $$"
   ]
  },
  {
   "cell_type": "markdown",
   "metadata": {
    "slideshow": {
     "slide_type": "slide"
    }
   },
   "source": [
    "## Noise shaping: key results\n",
    "\n",
    "- The optimal noise shaping filter, the areas under and above the unit gain (or 0 dB) must be *equal on the logarithmic scale*\n",
    "- Attenuating the quantization noise at some frequencies will inevitably amplify it at others\n",
    "- The area above the unit gain *will always be bigger on the linear scale* ([Jensen's inequality](https://en.wikipedia.org/wiki/Jensen%27s_inequality))\n",
    "- The *total quantization noise power with a noise shaping filter will always increase compared to no noise shaping*"
   ]
  },
  {
   "cell_type": "code",
   "execution_count": 12,
   "metadata": {
    "slideshow": {
     "slide_type": "skip"
    }
   },
   "outputs": [],
   "source": [
    "# Sampling frequency in Hz.\n",
    "fs = 44100\n",
    "# Signal duration in seconds.\n",
    "duration = 4\n",
    "\n",
    "# Number of samples for which we plot the time-domain signals.\n",
    "nt = 600\n",
    "# Regularization constant to avoid taking a log of zero.\n",
    "mu = 1e-6\n",
    "\n",
    "# Define the noise shaping filter.\n",
    "a_h = np.array([1])\n",
    "# b_h = np.array([1])\n",
    "# b_h = np.array([1.623, -0.982, 0.109])\n",
    "b_h = np.array([2.412, -3.37, 3.937, -4.174, 3.353, -2.205, 1.281, -0.569, 0.0847])\n",
    "\n",
    "# Define the widgets to control the demo parameters.\n",
    "dither_type_dd_5 = ipw.Dropdown(\n",
    "    options=['RPDF', 'TPDF'],\n",
    "    value='TPDF', description='Dither type: ',\n",
    "    disabled=False)\n",
    "\n",
    "midrise_dd_5 = ipw.Dropdown(\n",
    "    options=[('midrise', True), ('mid-tread', False)],\n",
    "    value=True, description='Quantizer type', \n",
    "    disabled=False)\n",
    "\n",
    "win_type_dd_5 = ipw.Dropdown(options=['rect', 'hanning', 'hamming'],\n",
    "    value='hanning', description='Window type',\n",
    "    disabled=False)\n",
    "\n",
    "fft_size_dd_5 = ipw.Dropdown(\n",
    "    options=[256, 512, 1024, 2048, 4096, 8192, 16384],\n",
    "    value=4096, description='FFT size',\n",
    "    disabled=False)\n",
    "\n",
    "a_fs_5 = ipw.FloatSlider(\n",
    "    min=0, max=1, step=0.001, value=0.5, description='$a$')\n",
    "\n",
    "f_fs_5 = ipw.FloatSlider(\n",
    "    min=100, max=5000, step=10, value=440, description='$f_0$')\n",
    "\n",
    "nbits_is_5 = ipw.IntSlider(\n",
    "    min=1, max=24, step=1, value=10, description='$n_{\\it bits}$')\n",
    "\n",
    "demo_out_5 = ipw.Output()\n",
    "\n",
    "default_layout = ipw.Layout(\n",
    "    border='solid 1px black',\n",
    "    margin='0px 10px 10px 0px',\n",
    "    padding='5px 5px 5px 5px')\n",
    "\n",
    "def update_ns_dither(\n",
    "    a, f, T, fs, nbits, midrise=False,\n",
    "    dither_type='rpdf',\n",
    "    win_type='rect', fft_size=4096):\n",
    "    \n",
    "    t = np.arange(0, T, 1/fs)\n",
    "    x = a * np.sin(2 * np.pi * f * t)\n",
    "    step_size = 2 / 2**nbits\n",
    "    \n",
    "    # Prepare the windowing function.\n",
    "    win = stft_window(fft_size, fft_size, win_type=win_type)\n",
    "    # Work with a 50% overlap.\n",
    "    hop_size = fft_size // 2\n",
    "    \n",
    "    if dither_type.lower() == 'rpdf':\n",
    "        d = dither_rpdf(step_size, len(t))\n",
    "        e_pow_theory = step_size**2 / 6\n",
    "    elif dither_type.lower() == 'tpdf':\n",
    "        d = dither_tpdf(step_size, len(t))\n",
    "        e_pow_theory = step_size**2 / 4\n",
    "    else:\n",
    "        raise ValueError('Unknown dither type')\n",
    "\n",
    "    y_nns = quantize(x + d, step_size, midrise)\n",
    "    y_ns = quantize_ns(x, d, b_h, a_h, step_size, midrise)\n",
    "    e_ns = y_ns - x\n",
    "    e_nns = y_nns - x\n",
    "\n",
    "    # Compute the quantized signal's spectrum.\n",
    "    _, f_n, Y_ns_s = stft(y_ns, win, hop_size)\n",
    "    Y_ns = np.mean(np.abs(Y_ns_s), axis=1)\n",
    "    _, _, Y_nns_s = stft(y_nns, win, hop_size)\n",
    "    Y_nns = np.mean(np.abs(Y_nns_s), axis=1)\n",
    "    # Compute the error spectra.\n",
    "    _, _, E_ns_s = stft(e_ns, win, hop_size)\n",
    "    E_ns = np.mean(np.abs(E_ns_s), axis=1)\n",
    "    _, _, E_nns_s = stft(e_nns, win, hop_size)\n",
    "    E_nns = np.mean(np.abs(E_nns_s), axis=1)\n",
    "    \n",
    "    freqs = f_n * fs\n",
    "    \n",
    "    # Extreme value for plotted vertical lines showing harmonics.\n",
    "    Y_max = 20 * np.log10(np.max(np.abs(Y_ns)))\n",
    "    Y_min = 20 * np.log10(np.min(np.abs(Y_ns)) + mu)\n",
    "    E_max = 20 * np.log10(np.max(np.abs(E_ns)))\n",
    "    E_min = 20 * np.log10(np.min(np.abs(E_ns)) + mu)\n",
    "    # Since we're plotting the theoretical noise PSD, account for them.\n",
    "    Y_max = np.maximum(Y_max, 10*np.log10(e_pow_theory*fft_size))\n",
    "    Y_min = np.minimum(Y_min, 10*np.log10(e_pow_theory*fft_size))\n",
    "    E_max = np.maximum(E_max, 10*np.log10(e_pow_theory*fft_size))\n",
    "    E_min = np.minimum(E_min, 10*np.log10(e_pow_theory*fft_size))\n",
    "    \n",
    "    audio_out_0 = ipw.Output()\n",
    "    audio_out_1 = ipw.Output()\n",
    "    audio_out_2 = ipw.Output()\n",
    "    \n",
    "    with audio_out_0:\n",
    "        print('Original')\n",
    "        display(ipd.Audio(data=np.clip(x, -1, 1), rate=fs, normalize=False))\n",
    "    with audio_out_1:\n",
    "        print('Quantized w/ {:s} dither'.format(dither_type.upper()))\n",
    "        display(ipd.Audio(data=np.clip(y_nns, -1, 1), rate=fs, normalize=False))\n",
    "    with audio_out_2:\n",
    "        print('Quantized w/ {:s} dither and noise shaping'.format(dither_type.upper()))\n",
    "        display(ipd.Audio(data=np.clip(y_ns, -1, 1), rate=fs, normalize=False))\n",
    "        \n",
    "    audio_group = ipw.HBox([audio_out_0, audio_out_1, audio_out_2])\n",
    "    audio_group.layout = default_layout\n",
    "    \n",
    "    demo_out_5.clear_output()\n",
    "    \n",
    "    figure_out = ipw.Output()\n",
    "    figure_out.layout = default_layout\n",
    "\n",
    "    with figure_out:\n",
    "        plt.figure(figsize=(15, 6))\n",
    "\n",
    "        plt.subplot(2, 2, 1)\n",
    "        plt.plot(t[:nt], y_ns[:nt], color='b')\n",
    "        plt.ylabel('$y(t)$')\n",
    "        plt.title('Quantizer\\'s output with noise shaping', fontsize=12)\n",
    "        plt.ylim([-1.1, 1.1])\n",
    "        plt.grid()\n",
    "\n",
    "        plt.subplot(2, 2, 3)\n",
    "        plt.plot(t[:nt], e_ns[:nt], color='b')\n",
    "        plt.xlabel('$t$ [s]')\n",
    "        plt.ylabel('$e(t)$')\n",
    "        plt.title('Quantization error with noise shaping', fontsize=12)\n",
    "        plt.grid()\n",
    "\n",
    "        plt.subplot(2, 2, 2)\n",
    "        plt.plot(freqs, 20*np.log10(np.abs(Y_ns)+mu), color='blue', label='w/ NS')\n",
    "        plt.plot(freqs, 20*np.log10(np.abs(Y_nns)+mu), color='green', label='w/o NS')\n",
    "        plt.ylabel('$Y(f)$ [dB]')\n",
    "        plt.title('Quantized signal\\'s spectrum')\n",
    "        plt.legend()\n",
    "        plt.grid()\n",
    "\n",
    "        plt.subplot(2, 2, 4)\n",
    "        plt.plot(freqs, 20*np.log10(np.abs(E_ns)+mu), \n",
    "                 color='blue', label='w/ NS')\n",
    "        plt.plot(freqs, 20*np.log10(np.abs(E_nns)+mu),\n",
    "                 color='green', label='w/o NS')\n",
    "        plt.xlabel('$f$ [H]')\n",
    "        plt.ylabel('$E(f)$ [dB]')\n",
    "        plt.title('Quantization error\\'s spectrum')\n",
    "        plt.legend()\n",
    "        plt.grid()\n",
    "\n",
    "        plt.tight_layout()\n",
    "        plt.show()\n",
    "        \n",
    "    with demo_out_5:\n",
    "        display(audio_group)\n",
    "        display(figure_out)\n",
    "        \n",
    "def click_ns_dither(change):\n",
    "    update_ns_dither(\n",
    "        a=a_fs_5.value, f=f_fs_5.value,\n",
    "        nbits=nbits_is_5.value,\n",
    "        T=duration, fs=fs,\n",
    "        midrise=midrise_dd_5.value,\n",
    "        dither_type=dither_type_dd_5.value,\n",
    "        win_type=win_type_dd_5.value, \n",
    "        fft_size=fft_size_dd_5.value)\n",
    "\n",
    "# Group widgets to have the desired looks.\n",
    "sliders_5 = ipw.HBox([a_fs_5, f_fs_5, nbits_is_5])\n",
    "sliders_5.layout = default_layout\n",
    "dropdowns0_5 = ipw.HBox([midrise_dd_5, dither_type_dd_5])\n",
    "dropdowns1_5 = ipw.HBox([win_type_dd_5, fft_size_dd_5])\n",
    "dropdowns_5 = ipw.VBox([dropdowns0_5, dropdowns1_5])\n",
    "dropdowns_5.layout = default_layout\n",
    "controls_5 = ipw.VBox([sliders_5, dropdowns_5])\n",
    "controls_5.layout = default_layout\n",
    "run_button_5 = ipw.Button(description='Run')\n",
    "run_button_5.on_click(click_ns_dither)"
   ]
  },
  {
   "cell_type": "markdown",
   "metadata": {
    "slideshow": {
     "slide_type": "slide"
    }
   },
   "source": [
    "### Dithered quantization with noise shaping demo"
   ]
  },
  {
   "cell_type": "code",
   "execution_count": null,
   "metadata": {},
   "outputs": [
    {
     "data": {
      "application/vnd.jupyter.widget-view+json": {
       "model_id": "263c4e94b7b847859c983b27322c95ed",
       "version_major": 2,
       "version_minor": 0
      },
      "text/plain": [
       "VBox(children=(VBox(children=(HBox(children=(FloatSlider(value=0.5, description='$a$', max=1.0, step=0.001), F…"
      ]
     },
     "metadata": {},
     "output_type": "display_data"
    }
   ],
   "source": [
    "display(ipw.VBox([controls_5, run_button_5, demo_out_5]))\n",
    "click_ns_dither(None)"
   ]
  },
  {
   "cell_type": "markdown",
   "metadata": {
    "slideshow": {
     "slide_type": "slide"
    }
   },
   "source": [
    "## A different perspective on the Tsividis paradox\n",
    "\n",
    "*Listening to a CD with Ravel's Bolero (known for its use of a long crescendo), Tsividis noticed atrocious distortions when a flute plays - quietly of course - at the very beginning of the piece. Given those, he posed a question on the kind of interplay between analog, digital, and the quantization process itself that could explain the unrecognizable all-but-pleasant sound of the flute*\n",
    "\n",
    "- My explanation is very simple, which doesn't mean it's correct (Occam's razor can be only a razor, after all)\n",
    "- I think the annoying distortion could be attributed to the inadequacy of (re)quantization, probably due to the lack of appropriate dithering and/or noise shaping used for mastering the CD"
   ]
  },
  {
   "cell_type": "code",
   "execution_count": null,
   "metadata": {
    "slideshow": {
     "slide_type": "skip"
    }
   },
   "outputs": [],
   "source": [
    "audio_file = 'audio/Bolero.wav'\n",
    "\n",
    "fs, data = wavfile.read(audio_file)\n",
    "if issubclass(data.dtype.type, np.integer):\n",
    "    data = 1.0 * data / abs(np.iinfo(data.dtype).min)\n",
    "\n",
    "# STFT parameters.\n",
    "fft_size = 2**int(round(np.log2(fs/2))) # roughly 0.5 seconds\n",
    "block_overlap = 0.5\n",
    "win_type = 'hanning'\n",
    "\n",
    "hop_size = int(round(fft_size * (1 - block_overlap)))\n",
    "\n",
    "# Prepare the windowing function.\n",
    "win = stft_window(fft_size, fft_size, win_type=win_type)\n",
    "\n",
    "# Take only the left channel.\n",
    "x = data[:, 0]\n",
    "\n",
    "# Compute the power over time through the STFT.\n",
    "t_stft, f_stft, x_stft = stft(x, win, hop_size)\n",
    "x_psd = np.abs(x_stft)**2\n",
    "x_pow = np.sum(np.abs(x_psd), axis=0)"
   ]
  },
  {
   "cell_type": "markdown",
   "metadata": {
    "slideshow": {
     "slide_type": "slide"
    }
   },
   "source": [
    "### Ravel's Bolero: dynamic range"
   ]
  },
  {
   "cell_type": "code",
   "execution_count": null,
   "metadata": {
    "slideshow": {
     "slide_type": "-"
    }
   },
   "outputs": [],
   "source": [
    "plt.figure(figsize=(8, 3))\n",
    "\n",
    "plt.plot(t_stft / fs / 60, 10 * np.log10(x_pow), color='blue')\n",
    "plt.grid(True, which='both')\n",
    "plt.xlabel('$t$ [min]')\n",
    "plt.ylabel('$P(t)$ [dB]')\n",
    "plt.title('Evolution of signal\\'s power over time')\n",
    "\n",
    "plt.show()"
   ]
  },
  {
   "cell_type": "code",
   "execution_count": null,
   "metadata": {
    "slideshow": {
     "slide_type": "skip"
    }
   },
   "outputs": [],
   "source": [
    "# Boundaries of the excerpt we work with (in seconds).\n",
    "t_start = 10\n",
    "t_end = 27\n",
    "\n",
    "# Parameters of the quantizer.\n",
    "nbits = 10\n",
    "nsteps = 2**nbits\n",
    "midrise = True\n",
    "\n",
    "# We assume that the signal amplitude is in interval [-1, 1]\n",
    "step_size = 2 / nsteps\n",
    "\n",
    "# Noise shaping filter.\n",
    "a_h = np.array([1])\n",
    "# Choose one of the filters listed in the cited paper.\n",
    "# b_h = np.array([1])\n",
    "# b_h = np.array([1.623, -0.982, 0.109])\n",
    "b_h = np.array([2.412, -3.37, 3.937, -4.174, 3.353, -2.205, 1.281, -0.569, 0.0847]) \n",
    "\n",
    "x = data[int(t_start*fs):int(t_end*fs), 0]\n",
    "t = np.arange(0, len(x)) / fs\n",
    "\n",
    "nbits_is_6 = ipw.IntSlider(\n",
    "    min=1, max=24, step=1, value=10, \n",
    "    description='$n_{\\it bits}$', continuous_update=False)\n",
    "\n",
    "midrise_cb_6 = ipw.Checkbox(description='midrise quantizer', value=True)\n",
    "\n",
    "demo_out_6 = ipw.Output()\n",
    "\n",
    "def update_quantize_bolero(nbits=10, midrise=True):\n",
    "    nsteps = 2**nbits\n",
    "    # We assume that the signal amplitude is in interval [-1, 1]\n",
    "    step_size = 2 / nsteps\n",
    "    \n",
    "    # Quantize without dithering.\n",
    "    y = quantize(x, step_size, midrise)\n",
    "\n",
    "    # Generate dither.\n",
    "    d_tpdf = dither_tpdf(step_size, len(x))\n",
    "\n",
    "    # Quantize with dithering and noise shaping.\n",
    "    y_ns = np.zeros(x.shape)\n",
    "    if x.ndim > 1:\n",
    "        for i in range(0, x.ndim):\n",
    "            y_ns[:, i] = quantize_ns(x[:, i], d_tpdf, b_h, a_h, step_size, midrise)\n",
    "    else:\n",
    "        y_ns = quantize_ns(x, d_tpdf, b_h, a_h, step_size, midrise)\n",
    "        \n",
    "    audio_out_0 = ipw.Output()\n",
    "    audio_out_1 = ipw.Output()\n",
    "    audio_out_2 = ipw.Output()\n",
    "\n",
    "    # Play the audio excerpts -- original and requantized.\n",
    "    with audio_out_0:\n",
    "        print('Original audio')\n",
    "        display(ipd.Audio(data=np.clip(x, -1, 1), rate=fs, normalize=False))\n",
    "    with audio_out_1:\n",
    "        print('Quantized audio')\n",
    "        display(ipd.Audio(data=np.clip(y, -1, 1), rate=fs, normalize=False))\n",
    "    with audio_out_2:\n",
    "        print('Quantized and noise-shaped audio')\n",
    "        display(ipd.Audio(data=np.clip(y_ns, -1, 1), rate=fs, normalize=False))\n",
    "    \n",
    "    audio_group = ipw.HBox([audio_out_0, audio_out_1, audio_out_2])\n",
    "    audio_group.layout = default_layout\n",
    "\n",
    "    demo_out_6.clear_output()\n",
    "    \n",
    "    figure_out = ipw.Output()\n",
    "    figure_out.layout = default_layout\n",
    "\n",
    "    with figure_out:\n",
    "        plt.figure(figsize=(15, 4))\n",
    "\n",
    "        plt.subplot(1, 3, 1)\n",
    "        plt.plot(t, x, color='blue')\n",
    "        plt.xlabel('$t$ [s]')\n",
    "        plt.ylabel('$s(t)$')\n",
    "        plt.title('Original excerpt from Bolero', \n",
    "                  fontsize=12)\n",
    "        plt.grid()\n",
    "\n",
    "        plt.subplot(1, 3, 2)\n",
    "        plt.plot(t, y, color='blue')\n",
    "        plt.xlabel('$t$ [s]')\n",
    "        plt.ylabel('$s(t)$')\n",
    "        plt.title('Requantized w/o dither and noise shaping', \n",
    "                  fontsize=12)\n",
    "        plt.grid()\n",
    "\n",
    "        plt.subplot(1, 3, 3)\n",
    "        plt.plot(t, y_ns, color='blue')\n",
    "        plt.xlabel('$t$ [s]')\n",
    "        plt.ylabel('$s(t)$')\n",
    "        plt.title('Requantized w/ dithered noise shaping', \n",
    "                  fontsize=12)\n",
    "        plt.grid()\n",
    "\n",
    "        plt.tight_layout()\n",
    "        plt.show()\n",
    "        \n",
    "    with demo_out_6:\n",
    "        display(audio_group)\n",
    "        display(figure_out)\n",
    "\n",
    "def click_quantize_bolero(change):\n",
    "    update_quantize_bolero(nbits=nbits_is_6.value, midrise=midrise_cb_6.value)\n",
    "\n",
    "controls_6 = ipw.HBox([nbits_is_6, midrise_cb_6])\n",
    "controls_6.layout = default_layout\n",
    "run_button_6 = ipw.Button(description='Run')\n",
    "run_button_6.on_click(click_quantize_bolero)"
   ]
  },
  {
   "cell_type": "markdown",
   "metadata": {
    "slideshow": {
     "slide_type": "slide"
    }
   },
   "source": [
    "## Ravel's Bolero: distortion in the overture\n",
    "- Example somewhat contrived since the recording appears properly quantized"
   ]
  },
  {
   "cell_type": "code",
   "execution_count": null,
   "metadata": {},
   "outputs": [],
   "source": [
    "display(ipw.VBox([controls_6, run_button_6, demo_out_6]))\n",
    "click_quantize_bolero(None)"
   ]
  },
  {
   "cell_type": "markdown",
   "metadata": {
    "slideshow": {
     "slide_type": "slide"
    }
   },
   "source": [
    "# Dithering and noise shaping\n",
    "\n",
    "- Other fields use similar ideas (*halftoning* and *error diffusion*)\n",
    "- Can be combined with oversampling to achieve even higher SNR gains\n",
    "\n",
    "**Note**: dithering is a much broader concept and is used in many other fields\n",
    "- Example from previous life: distributed touch sensor design"
   ]
  },
  {
   "cell_type": "code",
   "execution_count": null,
   "metadata": {
    "slideshow": {
     "slide_type": "skip"
    }
   },
   "outputs": [],
   "source": [
    "# Set the size of the scanned domain.\n",
    "width = 1.5\n",
    "length = 1.\n",
    "\n",
    "# Set the spacing between emitters and detectors.\n",
    "d_emitters = 0.25\n",
    "d_detectors = 0.25\n",
    "\n",
    "# Amplitude of the dither used to reduce the size of large holes.\n",
    "dither_amp = 0.08\n",
    "\n",
    "def dither(x, amp):\n",
    "    return x + (np.random.rand(len(x)) - 0.5) * amp * 2\n",
    "\n",
    "# Construct the arrays\n",
    "\n",
    "# x positions at the bottom line.\n",
    "x_emitters_bottom = np.arange(d_emitters / 2, width, d_emitters)\n",
    "x_detectors_bottom = np.arange(d_emitters, width, d_detectors)\n",
    "# x positions at the top line.\n",
    "x_emitters_top = width - x_emitters_bottom\n",
    "x_detectors_top = width - x_detectors_bottom\n",
    "\n",
    "# y positions at the right line.\n",
    "y_emitters_right = np.arange(d_emitters / 2, length, d_emitters)\n",
    "y_detectors_right = np.arange(d_emitters, length, d_detectors)\n",
    "# y positions at the left line.\n",
    "y_emitters_left = length - y_emitters_right\n",
    "y_detectors_left = length - y_detectors_right\n",
    "\n",
    "# x positions along right and left lines.\n",
    "x_emitters_right = width * np.ones(y_emitters_right.shape)\n",
    "x_detectors_right = width * np.ones(y_detectors_right.shape)\n",
    "x_emitters_left = np.zeros(y_emitters_left.shape)\n",
    "x_detectors_left = np.zeros(y_detectors_left.shape)\n",
    "\n",
    "# y positions along bottom and top lines.\n",
    "y_emitters_bottom = np.zeros(x_emitters_bottom.shape)\n",
    "y_detectors_bottom = np.zeros(x_detectors_bottom.shape)\n",
    "y_emitters_top = length * np.ones(x_emitters_top.shape)\n",
    "y_detectors_top = length * np.ones(x_detectors_top.shape)\n",
    "\n",
    "# x and y positions of the entire emitter and detector arrays.\n",
    "x_emitters = np.concatenate((x_emitters_bottom, x_emitters_right, \n",
    "                             x_emitters_top, x_emitters_left))\n",
    "y_emitters = np.concatenate((y_emitters_bottom, y_emitters_right, \n",
    "                             y_emitters_top, y_emitters_left))\n",
    "x_detectors = np.concatenate((x_detectors_bottom, x_detectors_right, \n",
    "                              x_detectors_top, x_detectors_left))\n",
    "y_detectors = np.concatenate((y_detectors_bottom, y_detectors_right, \n",
    "                              y_detectors_top, y_detectors_left))\n",
    "\n",
    "# Dither x positions at the top and bottom.\n",
    "x_emitters_bottom_dithered = dither(x_emitters_bottom, dither_amp)\n",
    "x_emitters_top_dithered = dither(x_emitters_top, dither_amp)\n",
    "x_detectors_bottom_dithered = dither(x_detectors_bottom, dither_amp)\n",
    "x_detectors_top_dithered = dither(x_detectors_top, dither_amp)\n",
    "\n",
    "# Dither y positions on the left and the right side.\n",
    "y_emitters_right_dithered = dither(y_emitters_right, dither_amp)\n",
    "y_emitters_left_dithered = dither(y_emitters_left, dither_amp)\n",
    "y_detectors_right_dithered = dither(y_detectors_right, dither_amp)\n",
    "y_detectors_left_dithered = dither(y_detectors_left, dither_amp)\n",
    "\n",
    "# x and y positions off the entire emitter and detector arrays.\n",
    "x_emitters_dithered = np.concatenate((x_emitters_bottom_dithered, x_emitters_right, \n",
    "                                      x_emitters_top_dithered, x_emitters_left))\n",
    "y_emitters_dithered = np.concatenate((y_emitters_bottom, y_emitters_right_dithered, \n",
    "                                      y_emitters_top, y_emitters_left_dithered))\n",
    "x_detectors_dithered = np.concatenate((x_detectors_bottom_dithered, x_detectors_right, \n",
    "                                       x_detectors_top_dithered, x_detectors_left))\n",
    "y_detectors_dithered = np.concatenate((y_detectors_bottom, y_detectors_right_dithered, \n",
    "                                       y_detectors_top, y_detectors_left_dithered))\n",
    "\n",
    "emitter_pos = np.stack((x_emitters, y_emitters), axis=-1)\n",
    "detector_pos = np.stack((x_detectors, y_detectors), axis=-1)\n",
    "\n",
    "emitter_pos_dithered = np.stack((x_emitters_dithered, y_emitters_dithered), axis=-1)\n",
    "detector_pos_dithered = np.stack((x_detectors_dithered, y_detectors_dithered), axis=-1)\n",
    "\n",
    "def plot_arrays():\n",
    "    # Plot the three projections.\n",
    "    fig = plt.figure(figsize = (10, 5))\n",
    "\n",
    "    plt.subplot(1, 2, 1)\n",
    "    plt.scatter(emitter_pos[:, 0], emitter_pos[:, 1], color='b')\n",
    "    plt.scatter(detector_pos[:, 0], detector_pos[:, 1], color='r')\n",
    "    for i in range(emitter_pos.shape[0]):\n",
    "        for j in range(detector_pos.shape[0]):\n",
    "            plt.plot([emitter_pos[i, 0], detector_pos[j, 0]],\n",
    "                    [emitter_pos[i, 1], detector_pos[j, 1]], color='g')\n",
    "    plt.grid()\n",
    "    plt.title(\"Regular array\")\n",
    "    plt.axis('scaled')\n",
    "\n",
    "    plt.subplot(1, 2, 2)\n",
    "    plt.scatter(emitter_pos_dithered[:, 0], emitter_pos_dithered[:, 1], color='b')\n",
    "    plt.scatter(detector_pos_dithered[:, 0], detector_pos_dithered[:, 1], color='r')\n",
    "    for i in range(emitter_pos_dithered.shape[0]):\n",
    "        for j in range(detector_pos_dithered.shape[0]):\n",
    "            plt.plot([emitter_pos_dithered[i, 0], detector_pos_dithered[j, 0]],\n",
    "                    [emitter_pos_dithered[i, 1], detector_pos_dithered[j, 1]], color='g')\n",
    "    plt.grid()\n",
    "    plt.title(\"Dithered array\")\n",
    "    plt.axis('scaled')\n",
    "    \n",
    "    plt.show()"
   ]
  },
  {
   "cell_type": "code",
   "execution_count": null,
   "metadata": {
    "slideshow": {
     "slide_type": "-"
    }
   },
   "outputs": [],
   "source": [
    "plot_arrays()"
   ]
  }
 ],
 "metadata": {
  "celltoolbar": "Slideshow",
  "kernelspec": {
   "display_name": "Python 3",
   "language": "python",
   "name": "python3"
  },
  "language_info": {
   "codemirror_mode": {
    "name": "ipython",
    "version": 3
   },
   "file_extension": ".py",
   "mimetype": "text/x-python",
   "name": "python",
   "nbconvert_exporter": "python",
   "pygments_lexer": "ipython3",
   "version": "3.6.10"
  }
 },
 "nbformat": 4,
 "nbformat_minor": 4
}
