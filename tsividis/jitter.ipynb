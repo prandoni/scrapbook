{
 "cells": [
  {
   "cell_type": "markdown",
   "metadata": {},
   "source": [
    "## Aside: the unexpected effects of jitter\n",
    "\n",
    "In the first implementation of the `test_nhd()` function, I had forgotten to take the time index $n$ modulo $B$ and this created some amazing audio artefacts. \n",
    "\n",
    "Note that the digital frequency of the sinusoid, for $A/B = 3/8$ is $\\omega = 3\\pi/4$ so samples at $n$ multiple of $4$ should be zero. Also recall that, in a mid-riser quantizer (i.e. when then number of steps is even), zero is quantized to a positive value.\n",
    "\n",
    "By quantizing $\\sin(3\\pi n/4)$, where $n$ is growing unbounded, the numerical errors in the computation of the sine cause a slight jitter of the sinusoidal values around zero, so that some samples that shoudl nominally be zero are instead quantized to a _negative_value.\n",
    "\n",
    "Here is an example:"
   ]
  },
  {
   "cell_type": "code",
   "execution_count": null,
   "metadata": {},
   "outputs": [],
   "source": [
    "def test_nhd_jitter(fs=16000, levels=2, duration=3, B=8, A=3):\n",
    "    return IPython.display.Audio(quantize(np.sin((2 * np.pi / B) * A * (np.arange(0, duration * fs))), levels), rate=fs)"
   ]
  },
  {
   "cell_type": "code",
   "execution_count": null,
   "metadata": {},
   "outputs": [],
   "source": [
    "test_nhd_jitter(levels=2, duration=120)"
   ]
  },
  {
   "cell_type": "markdown",
   "metadata": {},
   "source": [
    "This could happen in practice if the sampler is not locked to the input sinusoid..."
   ]
  }
 ],
 "metadata": {
  "kernelspec": {
   "display_name": "Python 3",
   "language": "python",
   "name": "python3"
  },
  "language_info": {
   "codemirror_mode": {
    "name": "ipython",
    "version": 3
   },
   "file_extension": ".py",
   "mimetype": "text/x-python",
   "name": "python",
   "nbconvert_exporter": "python",
   "pygments_lexer": "ipython3",
   "version": "3.7.7"
  }
 },
 "nbformat": 4,
 "nbformat_minor": 4
}
