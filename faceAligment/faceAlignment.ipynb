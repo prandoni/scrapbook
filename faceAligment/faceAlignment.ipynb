{
 "cells": [
  {
   "cell_type": "code",
   "execution_count": 1,
   "metadata": {
    "slideshow": {
     "slide_type": "skip"
    }
   },
   "outputs": [],
   "source": [
    "%matplotlib inline\n",
    "import matplotlib\n",
    "import numpy as np\n",
    "import matplotlib.pyplot as plt\n",
    "from scipy import signal\n",
    "\n",
    "from __future__ import division\n",
    "import itertools\n",
    "import copy\n",
    "from collections import namedtuple"
   ]
  },
  {
   "cell_type": "markdown",
   "metadata": {
    "slideshow": {
     "slide_type": "slide"
    }
   },
   "source": [
    "# Machine Learning for Face Analysis\n",
    "\n",
    "## LCAV TAM, 27 Feb 2018\n",
    "\n",
    "### Paolo Prandoni"
   ]
  },
  {
   "cell_type": "markdown",
   "metadata": {
    "slideshow": {
     "slide_type": "slide"
    }
   },
   "source": [
    "# Outline\n",
    "\n",
    "* what I do the other half of the time\n",
    "* a brief demo\n",
    "* paper discussion: \"One Millisecond Face Alignment with an Ensemble of Regression Trees\""
   ]
  },
  {
   "cell_type": "markdown",
   "metadata": {
    "slideshow": {
     "slide_type": "slide"
    }
   },
   "source": [
    "# Aside: why a \"reproducible\" TAM \n",
    "\n",
    "* a shameful confession...\n",
    "* avoid points of \"final exit\" \n",
    "* apologies for the didactic approach"
   ]
  },
  {
   "cell_type": "markdown",
   "metadata": {
    "slideshow": {
     "slide_type": "slide"
    }
   },
   "source": [
    "# My mistress Quividi\n",
    "<img src=\"quividi.com.png\" alt=\"quividi\" style=\"width: 1200px;\"/> "
   ]
  },
  {
   "cell_type": "markdown",
   "metadata": {
    "slideshow": {
     "slide_type": "slide"
    }
   },
   "source": [
    "![quividi](quividi.png)\n"
   ]
  },
  {
   "cell_type": "markdown",
   "metadata": {
    "slideshow": {
     "slide_type": "slide"
    }
   },
   "source": [
    "# Live Demo!"
   ]
  },
  {
   "cell_type": "markdown",
   "metadata": {
    "slideshow": {
     "slide_type": "slide"
    }
   },
   "source": [
    "# Part 1 - the Paper\n",
    "\n",
    " * \"One Millisecond Face Alignment with an Ensemble of Regression Trees\", by Vahid Kazemi and Josephine Sullivan, KTH, 2014\n",
    " \n",
    "<img src=\"faces.jpg\" alt=\"landmarks\" style=\"width: 800px;\"/> "
   ]
  },
  {
   "cell_type": "markdown",
   "metadata": {
    "slideshow": {
     "slide_type": "slide"
    }
   },
   "source": [
    "## Problem setup:\n",
    "    \n",
    "* $I$: $M\\times M$ face image, 8-bit, grayscale\n",
    "* $S$: set of face _shapes_, as $L$ positions of 2D landmarks; $S \\in \\mathbb{N}^{2L}$ \n",
    "* find $F: \\mathbb{N}^{M^2} \\rightarrow \\mathbb{N}^{2L}$ s.t.\n",
    "$F(I) \\approx S$"
   ]
  },
  {
   "cell_type": "markdown",
   "metadata": {
    "slideshow": {
     "slide_type": "slide"
    }
   },
   "source": [
    "### 68-point landmark pattern:\n",
    "<img src=\"landmarks_68.png\" alt=\"landmarks\" style=\"width: 500px;\"/>"
   ]
  },
  {
   "cell_type": "markdown",
   "metadata": {
    "slideshow": {
     "slide_type": "slide"
    }
   },
   "source": [
    "## Classic ML problem:\n",
    "\n",
    "* get a set of N annotated face images $\\{I_n, S_n\\}$\n",
    "* train a system on the dataset"
   ]
  },
  {
   "cell_type": "markdown",
   "metadata": {
    "slideshow": {
     "slide_type": "slide"
    }
   },
   "source": [
    "### typical shape variability in training set\n",
    "<img src=\"face_shape_model.gif\" alt=\"landmarks\" style=\"width: 500px;\"/>"
   ]
  },
  {
   "cell_type": "markdown",
   "metadata": {
    "slideshow": {
     "slide_type": "slide"
    }
   },
   "source": [
    "## Why Kazemi and Sullivan's approach is nice\n",
    "\n",
    "* use intelligent \"features\" rather than raw data\n",
    "* supplement classic boosting methods with smart ad-hoc observations\n",
    "* a good mix of ML and intuition"
   ]
  },
  {
   "cell_type": "markdown",
   "metadata": {
    "slideshow": {
     "slide_type": "slide"
    }
   },
   "source": [
    "## Ingredient 1: Gradient Boosting\n",
    "\n",
    "Problem: learn $F(I_n) \\approx S_n$\n",
    "\n",
    "* successive refinement of estimation function: $F^{(i+1)}(I) = F^{(i)}(I) + h^{(i)}(I)$\n",
    "* ideally: $h^{(i)}(I) = S - F^{(i)}(I)$\n",
    "* learn a sequence of approximations to the _residuals_ $h^{(i)}(I)$\n",
    "\n",
    "(\"gradient\" because $\\partial h^2/\\partial F \\propto -h$)"
   ]
  },
  {
   "cell_type": "markdown",
   "metadata": {
    "slideshow": {
     "slide_type": "slide"
    }
   },
   "source": [
    "In our case:\n",
    "* start with an estimate $\\hat{S}^{(0)} = \\bar{S}$ (i.e. average face shape)\n",
    "* for $i = 0, \\ldots, T$:\n",
    "    * compute residuals $\\quad\\Delta S^{(i)}_n = S_n - \\hat{S}^{(i)} \\qquad n = 1, \\ldots, N$\n",
    "    * learn an approximation $\\quad r^{(i)}(I_n, \\hat{S}^{(i)}_n) \\approx \\Delta S^{(i)}_n$ \n",
    "    * update estimates $\\quad\\hat{S}^{(i+1)}_n = \\hat{S}^{(i)}_n + r^{(i)}(I_n, \\hat{S}^{(i)}_n)$\n",
    "    \n",
    "    \n",
    "    \n",
    "Note: dependence on $\\hat{S}^{(i)}_n$ is important"
   ]
  },
  {
   "cell_type": "markdown",
   "metadata": {
    "slideshow": {
     "slide_type": "slide"
    }
   },
   "source": [
    "<img src=\"cascade.jpg\" alt=\"cascade\" style=\"width: 1200px;\"/>"
   ]
  },
  {
   "cell_type": "markdown",
   "metadata": {
    "slideshow": {
     "slide_type": "slide"
    }
   },
   "source": [
    "## Ingredient 2: Regression Trees and Forests\n",
    "\n",
    "Learning the residual estimators $r^{(i)}(I, \\hat{S})$ \n",
    "\n",
    "* use regression trees to approximate the residual\n",
    "* use boosting (again!) to avoid overfitting and improve generalization\n",
    "* boosted trees are also called forests"
   ]
  },
  {
   "cell_type": "markdown",
   "metadata": {
    "slideshow": {
     "slide_type": "slide"
    }
   },
   "source": [
    "### A brief digression on trees and forests...\n",
    "\n",
    "### a classification tree\n",
    "\n",
    "![classification](classification_tree.png)"
   ]
  },
  {
   "cell_type": "markdown",
   "metadata": {
    "slideshow": {
     "slide_type": "slide"
    }
   },
   "source": [
    "### regression trees\n",
    "\n",
    "Piecewise-constant function approximation:\n",
    "* split function domain recursively \n",
    "* use function average over split intervals\n",
    "* choose the split points at random via a greedy strategy that minimizes the squared error"
   ]
  },
  {
   "cell_type": "code",
   "execution_count": 2,
   "metadata": {
    "slideshow": {
     "slide_type": "slide"
    }
   },
   "outputs": [],
   "source": [
    "class RegTree:\n",
    "    def __init__(self, depth):\n",
    "        self.levels = depth\n",
    "        self.num_leaves = 2 ** self.levels\n",
    "        self.num_nodes = self.num_leaves - 1\n",
    "\n",
    "    def train(self, data):\n",
    "        N = len(data)\n",
    "        TRIALS_PER_NODE = 100\n",
    "\n",
    "        # initialize tree and go through nodes in order\n",
    "        ix = 0\n",
    "        self.node = [None] * (self.num_nodes + 1)  # node indexing starts at 1\n",
    "        self.node[1] = {'A': 0, 'B': N}\n",
    "        self.leaf = []\n",
    "        for level in xrange(0, self.levels):\n",
    "            for k in xrange(0, 2 ** level):\n",
    "                ix += 1\n",
    "                # select greedily the best split per node over N trials\n",
    "                A = self.node[ix]['A']\n",
    "                B = self.node[ix]['B']\n",
    "                best = {'err': 1e20, 'S': A}\n",
    "                for n in xrange(0, TRIALS_PER_NODE):\n",
    "                    S = A + int(np.floor(np.random.rand() * (B - A + 1)))\n",
    "                    err = np.square(data[A:S] - data[A:S].mean()).sum() + \\\n",
    "                          np.square(data[S:B] - data[S:B].mean()).sum()\n",
    "                    if err < best['err']:\n",
    "                        best = {'err': err, 'S': S}\n",
    "                # best split found :\n",
    "                S = best['S']\n",
    "                self.node[ix]['S'] = S\n",
    "                if level == self.levels - 1:\n",
    "                    self.leaf.append(data[A:S].mean())\n",
    "                    self.leaf.append(data[S:B].mean())\n",
    "                else:\n",
    "                    self.node[2*ix] = {'A': A, 'B': S}\n",
    "                    self.node[2*ix+1] = {'A': S, 'B': B}\n",
    "                    \n",
    "    def regress(self, N = 1):\n",
    "        x = np.zeros(N)\n",
    "        for n in xrange(0, N):\n",
    "            ix = 1\n",
    "            for k in xrange(0, self.levels):\n",
    "                if n >= self.node[ix]['S']:\n",
    "                    ix = 2 * ix + 1\n",
    "                else:\n",
    "                    ix = 2 * ix\n",
    "            x[n] = self.leaf[ix - self.num_nodes - 1]\n",
    "        return x"
   ]
  },
  {
   "cell_type": "code",
   "execution_count": 3,
   "metadata": {
    "slideshow": {
     "slide_type": "skip"
    }
   },
   "outputs": [],
   "source": [
    "def test_fit(data, regressor):\n",
    "    t = eval(regressor)\n",
    "    t.train(data)\n",
    "    plt.plot(data)\n",
    "    plt.plot(t.regress(len(data)), linewidth=5.0)"
   ]
  },
  {
   "cell_type": "code",
   "execution_count": 1,
   "metadata": {
    "slideshow": {
     "slide_type": "slide"
    }
   },
   "outputs": [
    {
     "ename": "NameError",
     "evalue": "name 'np' is not defined",
     "output_type": "error",
     "traceback": [
      "\u001b[1;31m---------------------------------------------------------------------------\u001b[0m",
      "\u001b[1;31mNameError\u001b[0m                                 Traceback (most recent call last)",
      "\u001b[1;32m<ipython-input-1-9c1924b09bd1>\u001b[0m in \u001b[0;36m<module>\u001b[1;34m\u001b[0m\n\u001b[0;32m      1\u001b[0m \u001b[0mPOINTS\u001b[0m \u001b[1;33m=\u001b[0m \u001b[1;36m500\u001b[0m\u001b[1;33m\u001b[0m\u001b[1;33m\u001b[0m\u001b[0m\n\u001b[1;32m----> 2\u001b[1;33m \u001b[0mx\u001b[0m \u001b[1;33m=\u001b[0m \u001b[0mnp\u001b[0m\u001b[1;33m.\u001b[0m\u001b[0msin\u001b[0m\u001b[1;33m(\u001b[0m\u001b[0mnp\u001b[0m\u001b[1;33m.\u001b[0m\u001b[0marange\u001b[0m\u001b[1;33m(\u001b[0m\u001b[1;36m0\u001b[0m\u001b[1;33m,\u001b[0m \u001b[0mPOINTS\u001b[0m\u001b[1;33m)\u001b[0m \u001b[1;33m*\u001b[0m \u001b[1;36m2\u001b[0m \u001b[1;33m*\u001b[0m \u001b[0mnp\u001b[0m\u001b[1;33m.\u001b[0m\u001b[0mpi\u001b[0m \u001b[1;33m/\u001b[0m \u001b[0mPOINTS\u001b[0m\u001b[1;33m)\u001b[0m\u001b[1;33m\u001b[0m\u001b[1;33m\u001b[0m\u001b[0m\n\u001b[0m\u001b[0;32m      3\u001b[0m \u001b[1;33m\u001b[0m\u001b[0m\n\u001b[0;32m      4\u001b[0m \u001b[0mtest_fit\u001b[0m\u001b[1;33m(\u001b[0m\u001b[0mx\u001b[0m\u001b[1;33m,\u001b[0m \u001b[1;34m'RegTree(3)'\u001b[0m\u001b[1;33m)\u001b[0m\u001b[1;33m\u001b[0m\u001b[1;33m\u001b[0m\u001b[0m\n",
      "\u001b[1;31mNameError\u001b[0m: name 'np' is not defined"
     ]
    }
   ],
   "source": [
    "POINTS = 500\n",
    "x = np.sin(np.arange(0, POINTS) * 2 * np.pi / POINTS)\n",
    "\n",
    "test_fit(x, 'RegTree(3)')"
   ]
  },
  {
   "cell_type": "code",
   "execution_count": 5,
   "metadata": {
    "slideshow": {
     "slide_type": "slide"
    }
   },
   "outputs": [
    {
     "data": {
      "image/png": "[encoded data removed]",
      "text/plain": [
       "<matplotlib.figure.Figure at 0x9897940>"
      ]
     },
     "metadata": {},
     "output_type": "display_data"
    }
   ],
   "source": [
    "test_fit(x, 'RegTree(8)')"
   ]
  },
  {
   "cell_type": "markdown",
   "metadata": {
    "slideshow": {
     "slide_type": "slide"
    }
   },
   "source": [
    "### boosting the trees\n",
    "\n",
    "* trees that are too deep are prone to overfitting (low bias, high variance)\n",
    "* better to use a forest of shallow trees via boosting\n",
    "* boosting reduces variance by correcting past classification mistakes"
   ]
  },
  {
   "cell_type": "markdown",
   "metadata": {
    "slideshow": {
     "slide_type": "slide"
    }
   },
   "source": [
    "### training a forest\n",
    "\n",
    "Goal: approximate $f(t)$ with a boosted forest\n",
    "\n",
    "* $\\hat{h}^{(0)}(t) = 0$ (initial estimate)\n",
    "* for $k = 1, \\ldots, K$:\n",
    "    * compute residual $\\quad \\rho^{(k)}(t) = f(t) - \\hat{h}^{(k-1)}(t)$\n",
    "    * fit a regression tree $\\quad \\tau^{(k)}(t) \\approx \\rho^{(k)}(t)$\n",
    "    * update $\\quad \\hat{h}^{(k)}(t) = {\\hat{h}}^{(k-1)}(t) + \\nu \\tau^{(k)}(t)$\n",
    "    \n",
    "Forest regressor is $\\quad f(t) \\approx \\nu \\sum_k \\tau^{(k)}(t)$ "
   ]
  },
  {
   "cell_type": "code",
   "execution_count": 6,
   "metadata": {
    "slideshow": {
     "slide_type": "slide"
    }
   },
   "outputs": [],
   "source": [
    "class RegForest:\n",
    "    def __init__(self, forest_size, tree_depth, nu):\n",
    "        self.num_trees = forest_size\n",
    "        self.tree_depth = tree_depth\n",
    "        self.nu = nu\n",
    "\n",
    "    def train(self, data):\n",
    "        self.trees = []\n",
    "        residual = data.copy()\n",
    "        for k in xrange(0, self.num_trees):\n",
    "            rt = RegTree(self.tree_depth)\n",
    "            rt.train(residual)\n",
    "            self.trees.append(rt)\n",
    "            residual = residual - self.nu * rt.regress(len(residual))\n",
    "\n",
    "    def regress(self,  N=1):\n",
    "        x = np.zeros(N)\n",
    "        for rt in self.trees:\n",
    "            x = x + self.nu * rt.regress(N)\n",
    "        return x            "
   ]
  },
  {
   "cell_type": "code",
   "execution_count": 7,
   "metadata": {
    "slideshow": {
     "slide_type": "slide"
    }
   },
   "outputs": [
    {
     "data": {
      "image/png": "[encoded data removed]",
      "text/plain": [
       "<matplotlib.figure.Figure at 0x9bb9f98>"
      ]
     },
     "metadata": {},
     "output_type": "display_data"
    }
   ],
   "source": [
    "plt.subplots(1, 2, figsize=(13, 5))\n",
    "plt.subplot(1,2,1)\n",
    "test_fit(x, 'RegTree(6)')\n",
    "plt.subplot(1,2,2)\n",
    "test_fit(x, 'RegForest(8, 3, 0.3)')"
   ]
  },
  {
   "cell_type": "code",
   "execution_count": 29,
   "metadata": {
    "slideshow": {
     "slide_type": "slide"
    }
   },
   "outputs": [
    {
     "data": {
      "image/png": "[encoded data removed]",
      "text/plain": [
       "<matplotlib.figure.Figure at 0x9e0cda0>"
      ]
     },
     "metadata": {},
     "output_type": "display_data"
    }
   ],
   "source": [
    "y = x + np.random.randn(POINTS) / 4\n",
    "plt.subplots(1, 2, figsize=(13, 5))\n",
    "plt.subplot(1,2,1)\n",
    "test_fit(y, 'RegTree(6)')\n",
    "plt.subplot(1,2,2)\n",
    "test_fit(y, 'RegForest(8, 3, 0.4)')"
   ]
  },
  {
   "cell_type": "markdown",
   "metadata": {
    "slideshow": {
     "slide_type": "slide"
    }
   },
   "source": [
    "### Back to our problem...\n",
    "\n",
    "* start with an estimate $\\hat{S}^{(0)} = \\bar{S}$ (i.e. average face shape)\n",
    "* for $i = 0, \\ldots, T$:\n",
    "    * compute residuals $\\quad\\Delta S^{(i)}_n = S_n - \\hat{S}^{(i)} \\qquad n = 1, \\ldots, N$\n",
    "    * learn an approximation $\\quad r^{(i)}(I_n, \\hat{S}^{(i)}_n) \\approx \\Delta S^{(i)}_n$ \n",
    "    * update estimates $\\quad\\hat{S}^{(i+1)}_n = \\hat{S}^{(i)}_n + r^{(i)}(I_n, \\hat{S}^{(i)}_n)$\n",
    "    "
   ]
  },
  {
   "cell_type": "markdown",
   "metadata": {
    "slideshow": {
     "slide_type": "slide"
    }
   },
   "source": [
    "we learn a forest regressor to approximate each $r^{(i)}(I_n, \\hat{S}^{(i)}_n) \\approx \\Delta S^{(i)}_n$\n",
    "\n",
    "(it gets confusing because we're approximating a residual with... more residuals!)\n",
    "\n",
    "* use $\\hat{S}^{(i)}_n$ to produce a pool of $P$ pixel-based binary tests (aka features, $P=400$)\n",
    "* tests will be applied to each $I_n$ and used as split nodes in the trees\n",
    "* each tree will select different features from the list\n",
    "* trees will be boosted into a forest"
   ]
  },
  {
   "cell_type": "markdown",
   "metadata": {
    "slideshow": {
     "slide_type": "slide"
    }
   },
   "source": [
    "### greedy training strategy:\n",
    "\n",
    "For each node in the tree:\n",
    "* repeat $C$ times ($C=20$):\n",
    "    * select a test at random from the pool, split the training set in two subsets\n",
    "    * compute the average residuals $\\bar{\\Delta S}_{L}, \\bar{\\Delta S}_{R}$ for the two sets\n",
    "    * compute the total MSE resulting from approximating the residuals by their averages\n",
    "* select the test yielding the lowest MSE\n",
    "\n",
    "Use the tree boosting algorithm to combine $K$ trees into a forest ($K=500$, tree depth = 4)"
   ]
  },
  {
   "cell_type": "markdown",
   "metadata": {
    "slideshow": {
     "slide_type": "slide"
    }
   },
   "source": [
    "## Ingredient 3: \"shape-invariant\" features\n",
    "\n",
    "Feature: $\\{\\mathbf{x, y}, \\theta\\}$\n",
    "* $\\mathbf{x, y}$ pair of random pixel coordinates\n",
    "* $\\theta$ random threshold\n",
    "\n",
    "Binary test: $I(\\mathbf{x}) - I(\\mathbf{y}) > \\theta$\n",
    "\n",
    "Feature pool: set of $P$ random features, with a prior favoring nearby pairs of pixels"
   ]
  },
  {
   "cell_type": "markdown",
   "metadata": {
    "slideshow": {
     "slide_type": "slide"
    }
   },
   "source": [
    "#### Shape invariance:\n",
    "\n",
    "* pixel coordinates are given with respect to reference average shape $\\bar{S}$\n",
    "* at each stage in the cascade:\n",
    "    * find warping from $\\bar{S}$ to $\\hat{S}^{(i)}$\n",
    "    * warp pixel coordinates\n",
    "* stage-based warping ensures computational efficiency"
   ]
  },
  {
   "cell_type": "markdown",
   "metadata": {
    "slideshow": {
     "slide_type": "slide"
    }
   },
   "source": [
    "## Other neat ideas\n",
    "* augment training set by randomly pairing images and shapes\n",
    "* using (randomized) actual shapes as initial conditions improves generalization\n",
    "* using linear regressors implies final estimate is linear combination of training shapes: no deformations\n",
    "* relative indexing of features avoids image resizing"
   ]
  },
  {
   "cell_type": "markdown",
   "metadata": {
    "slideshow": {
     "slide_type": "slide"
    }
   },
   "source": [
    "# Part 2 - Toy Example\n",
    "\n",
    "Try to get all the key concepts from the paper in a self-contained framework:\n",
    "* simplify the dataset\n",
    "* have a way to generate automatically-labeled synthetic data\n",
    "* allow for fast training\n",
    "* scalable"
   ]
  },
  {
   "cell_type": "markdown",
   "metadata": {
    "slideshow": {
     "slide_type": "slide"
    }
   },
   "source": [
    "### simple, 1D equivalent to a \"face shape\"\n",
    "\n",
    "* have some initial symmetry\n",
    "* add perturbation to the symmetry\n",
    "* add affine transform\n",
    "\n",
    "Idea: magnitude response of a simple AR system!"
   ]
  },
  {
   "cell_type": "markdown",
   "metadata": {
    "slideshow": {
     "slide_type": "slide"
    }
   },
   "source": [
    "<img src=\"resonator.jpg\" alt=\"resonator\" style=\"width: 500px;\"/>"
   ]
  },
  {
   "cell_type": "code",
   "execution_count": 9,
   "metadata": {
    "slideshow": {
     "slide_type": "skip"
    }
   },
   "outputs": [],
   "source": [
    "class DataObject:\n",
    "    POINTS = 512  # number of points in the data object \n",
    "    \n",
    "    @staticmethod\n",
    "    def rnd():\n",
    "        # uniform random values between -1 and 1\n",
    "        return 2 * np.random.rand() - 1\n",
    "    \n",
    "    def __init__(self): \n",
    "        # data objects are generated as the magnitude response of a 3rd order AR filter\n",
    "        # From a symmetric pole pattern we apply pole jitter in phase and magnitude\n",
    "        #  plus a random shift and warp of the whole function \n",
    " \n",
    "        # Each object defines a three-point shape, corresponding to the peaks of the function\n",
    "        while True:\n",
    "            t = 0.35 + 0.1 * self.rnd()\n",
    "            r = 0.8 + 0.1 * self.rnd()\n",
    "            center = 0.2 * self.rnd()\n",
    "            warp = 1 + 0.2 * self.rnd()\n",
    "            # compute shape\n",
    "            x = (np.arange(0, self.POINTS) / self.POINTS - 0.5) * 2\n",
    "            z = np.exp(1.j * (x - center) * warp * np.pi)\n",
    "            a = 1\n",
    "            for theta, rho in zip([-t, 0, t], [r, 0.9, r]):\n",
    "                a *= np.abs(z - rho * np.exp(1.j * theta * np.pi))\n",
    "            self.data = 1.0 / a\n",
    "            self.data /= max(self.data)\n",
    "            # find landmarks\n",
    "            self.shape = []    \n",
    "            d = self.data - np.roll(self.data, 1)\n",
    "            for n in xrange(2, self.POINTS - 2):\n",
    "                if d[n] * d[n-1] <= 0 and d[n] < 0:\n",
    "                    self.shape.append(n - 1)\n",
    "            # only accept shapes with three distinct landmarks\n",
    "            if len(self.shape) == 3:\n",
    "                break\n",
    "\n",
    "    def __repr__(self):\n",
    "        return self.shape\n",
    "        \n",
    "    @classmethod\n",
    "    def empty_shape(cls):\n",
    "        return np.array([0, 0, 0])\n",
    "    \n",
    "    @classmethod\n",
    "    def mean_shape(cls):\n",
    "        # mean shape is for the non-perturbed pole plot\n",
    "        return (cls.POINTS * np.array([0.33, 0.5, 0.66]))\n",
    "    \n",
    "    @classmethod\n",
    "    def find_warping(cls, estimate):\n",
    "        # compute warping between reference shape and estimate via least squares fit\n",
    "        ref = cls.mean_shape()\n",
    "        if np.array_equal(estimate, ref):\n",
    "            return [1.0, 0.0]\n",
    "        c_m = np.mean(estimate)\n",
    "        r_m = np.mean(ref)\n",
    "        c_n = estimate - c_m\n",
    "        r_n = ref - r_m\n",
    "        m = np.dot(c_n, r_n) / np.dot(r_n, r_n)\n",
    "        b = c_m - m * r_m\n",
    "        return [m, b]\n",
    "\n",
    "    @classmethod\n",
    "    def get_split(cls):\n",
    "        # return two random coordinates and a threshold\n",
    "        p = np.sort(np.random.rand(2) * cls.POINTS)\n",
    "        return [int(p[0]), int(p[1]), cls.rnd()]\n",
    "    \n",
    "    def test_split(self, split, warping = [1.0, 0]):\n",
    "        # compute the difference between the data object values at the given coordinates\n",
    "        #  and return 1 if greater than the threshold; use warping if available\n",
    "        x = [min(max(split[i] * warping[0] + warping[1], 0), self.POINTS-1) for i in [0, 1]] \n",
    "        return 1 if self.data[int(x[0])] - self.data[int(x[1])] > split[2] else 0    \n",
    "        \n",
    "    def plot(self, estimate = None):\n",
    "        plt.plot(self.data)\n",
    "        for t in self.shape:\n",
    "            plt.plot(t, self.data[t], 'or')\n",
    "        if estimate is not None:\n",
    "            for t in estimate:\n",
    "                plt.plot([t, t], [0, 1], 'g')"
   ]
  },
  {
   "cell_type": "markdown",
   "metadata": {
    "slideshow": {
     "slide_type": "slide"
    }
   },
   "source": [
    "### 1D \"face\"\n",
    "\n",
    "* magnitude response is discretized over $N$ points to give a 1D \"image\" $I$\n",
    "* shape $S$ is a size-3 vector indicating the landmark positions (the peaks of the function)\n",
    "\n",
    "\n",
    "Goal: learn $F(I) \\approx S$ for a synthetic training set"
   ]
  },
  {
   "cell_type": "code",
   "execution_count": 33,
   "metadata": {
    "slideshow": {
     "slide_type": "slide"
    }
   },
   "outputs": [
    {
     "data": {
      "image/png": "[encoded data removed]",
      "text/plain": [
       "<matplotlib.figure.Figure at 0xbd524a8>"
      ]
     },
     "metadata": {},
     "output_type": "display_data"
    }
   ],
   "source": [
    "DataObject().plot()"
   ]
  },
  {
   "cell_type": "code",
   "execution_count": 11,
   "metadata": {
    "slideshow": {
     "slide_type": "skip"
    }
   },
   "outputs": [],
   "source": [
    "class TrainingSample(DataObject):\n",
    "    # just an augmented DataObject used for training\n",
    "    def __init__(self):\n",
    "        DataObject.__init__(self)\n",
    "        self.reset()\n",
    "        \n",
    "    def reset(self):\n",
    "        self.estimate = self.mean_shape()\n",
    "        self.residual = self.shape - self.mean_shape()\n",
    "        self.stage_estimate = self.mean_shape()\n",
    "        self.warping = [1.0, 0]\n",
    "    \n",
    "    \n",
    "class DataDB:\n",
    "    # training and test database\n",
    "    def __init__(self, num_items):\n",
    "        self.db = []\n",
    "        for n in xrange(0, num_items):\n",
    "            self.db.append(TrainingSample())\n",
    "            \n",
    "    def __getitem__(self, ix):\n",
    "        return self.db[ix]\n",
    "    \n",
    "    def __len__(self):\n",
    "        return len(self.db)\n",
    "    \n",
    "    def reset(self):\n",
    "        for i in self.db:\n",
    "            i.reset()\n",
    "        "
   ]
  },
  {
   "cell_type": "code",
   "execution_count": 12,
   "metadata": {
    "slideshow": {
     "slide_type": "slide"
    }
   },
   "outputs": [],
   "source": [
    "# create a training database \n",
    "db = DataDB(2000)"
   ]
  },
  {
   "cell_type": "code",
   "execution_count": 13,
   "metadata": {
    "slideshow": {
     "slide_type": "skip"
    }
   },
   "outputs": [],
   "source": [
    "def test(estimator, N):\n",
    "    # test a given estimator over a newly generated dataset\n",
    "    err = 0\n",
    "    for s in DataDB(N):\n",
    "        q = estimator.estimate(s)\n",
    "        err += np.square(s.shape - q).mean()\n",
    "    err /= N\n",
    "    print err"
   ]
  },
  {
   "cell_type": "markdown",
   "metadata": {
    "slideshow": {
     "slide_type": "slide"
    }
   },
   "source": [
    "### let's try first with  a simple tree\n",
    "\n",
    "* features are random triples $\\{j, k, \\theta\\}$\n",
    "* binary split tests are $I[j] - I[k] > \\theta$"
   ]
  },
  {
   "cell_type": "code",
   "execution_count": 14,
   "metadata": {
    "slideshow": {
     "slide_type": "slide"
    }
   },
   "outputs": [
    {
     "name": "stdout",
     "output_type": "stream",
     "text": [
      "\n"
     ]
    }
   ],
   "source": [
    "class RTree:\n",
    "    def __init__(self, tree_depth):\n",
    "        self.levels = tree_depth - 1  # do not count leaves\n",
    "        self.num_leaves = 2 ** self.levels\n",
    "        self.num_nodes = self.num_leaves - 1\n",
    "        # nodes hold splits\n",
    "        self.split = [None, ]  # node indexing starts at 1\n",
    "        self.leaf = []\n",
    "\n",
    "    def train(self, db):\n",
    "        # tree fitting operates only on residuals; residuals are set by the forest training\n",
    "        TRIALS_PER_SPLIT = 20\n",
    "        \n",
    "        # initialize empty tree\n",
    "        self.split = [None, ]  # node indexing starts at 1\n",
    "        self.leaf = []\n",
    "        for t in db:\n",
    "            t.node = 1\n",
    "            t.tmp_node = 0\n",
    "\n",
    "        # go through nodes in order\n",
    "        node = 0\n",
    "        for level in xrange(0, self.levels):\n",
    "            for k in xrange(0, 2 ** level):\n",
    "                node += 1\n",
    "                best = {\n",
    "                    'split': None,\n",
    "                    'mean': None,\n",
    "                    'error': 1e20,\n",
    "                }\n",
    "                # select greedily the best split per node over N trials\n",
    "                for n in xrange(0, TRIALS_PER_SPLIT):\n",
    "                    split = DataObject.get_split()\n",
    "                    mean = [DataObject.empty_shape(), DataObject.empty_shape()]\n",
    "                    count = [0, 0] \n",
    "                    # compute the average residuals for left and right subtrees \n",
    "                    for t in (i for i in db if i.node == node):\n",
    "                        ix = t.test_split(split, t.warping)\n",
    "                        # potential next node if we choose this split:\n",
    "                        t.tmp_node = 2 * node + ix\n",
    "                        mean[ix] = mean[ix] + t.residual\n",
    "                        count[ix] += 1\n",
    "                    for ix in [0, 1]:\n",
    "                        mean[ix] = mean[ix] / (count[ix] if count[ix] > 0 else 1)\n",
    "                    # now compute the approximation error for this split\n",
    "                    error = 0\n",
    "                    for t in (i for i in db if i.node == node):\n",
    "                        avg_residual = mean[t.tmp_node & 1]\n",
    "                        error += np.square(t.residual - avg_residual).mean()\n",
    "                    if (error < best['error']):\n",
    "                        best = {'split': split, 'mean': mean, 'error': error}\n",
    "                        for t in (i for i in db if i.node == node):\n",
    "                            t.best_node = t.tmp_node\n",
    "                # best split found :\n",
    "                self.split.append(best['split'])\n",
    "                for t in (i for i in db if i.node == node):\n",
    "                    t.node = t.best_node\n",
    "                # set leaves' values if last level\n",
    "                if level == self.levels - 1:\n",
    "                    self.leaf.append(best['mean'][0])\n",
    "                    self.leaf.append(best['mean'][1])\n",
    "        print \"*\",\n",
    "    print\n",
    "    \n",
    "    def estimate(self, dataobject, prev_est=None):\n",
    "        # use tree to estimate shape from DataObject (using optional starting point)\n",
    "        if prev_est is None:\n",
    "            prev_est = dataobject.mean_shape() \n",
    "        warping = dataobject.find_warping(prev_est)\n",
    "        return prev_est + self.regress(dataobject, warping)\n",
    "    \n",
    "    def regress(self, dataobject, warping):\n",
    "        # use regression tree on dataobject to find shape displacement\n",
    "        ix = 1\n",
    "        for k in xrange(0, self.levels):\n",
    "            if dataobject.test_split(self.split[ix], warping):\n",
    "                ix = 2 * ix + 1\n",
    "            else:\n",
    "                ix = 2 * ix\n",
    "        return self.leaf[ix - self.num_nodes - 1]"
   ]
  },
  {
   "cell_type": "code",
   "execution_count": 15,
   "metadata": {
    "slideshow": {
     "slide_type": "slide"
    }
   },
   "outputs": [
    {
     "name": "stdout",
     "output_type": "stream",
     "text": [
      "*\n"
     ]
    }
   ],
   "source": [
    "tree = RTree(3)\n",
    "db.reset()\n",
    "tree.train(db)"
   ]
  },
  {
   "cell_type": "code",
   "execution_count": 42,
   "metadata": {
    "slideshow": {
     "slide_type": "slide"
    }
   },
   "outputs": [
    {
     "data": {
      "image/png": "[encoded data removed]",
      "text/plain": [
       "<matplotlib.figure.Figure at 0xc565198>"
      ]
     },
     "metadata": {},
     "output_type": "display_data"
    }
   ],
   "source": [
    "s = DataObject()\n",
    "est = tree.estimate(s)\n",
    "s.plot(est)"
   ]
  },
  {
   "cell_type": "code",
   "execution_count": 17,
   "metadata": {
    "slideshow": {
     "slide_type": "slide"
    }
   },
   "outputs": [
    {
     "name": "stdout",
     "output_type": "stream",
     "text": [
      "533.373789802\n"
     ]
    }
   ],
   "source": [
    "test(tree, 1000)"
   ]
  },
  {
   "cell_type": "markdown",
   "metadata": {
    "slideshow": {
     "slide_type": "slide"
    }
   },
   "source": [
    "* for a single tree not so bad but clearly insufficient\n",
    "* what if we increase the depth of the tree?"
   ]
  },
  {
   "cell_type": "code",
   "execution_count": 18,
   "metadata": {
    "slideshow": {
     "slide_type": "slide"
    }
   },
   "outputs": [
    {
     "name": "stdout",
     "output_type": "stream",
     "text": [
      "* 178.748129402\n"
     ]
    }
   ],
   "source": [
    "new_tree = RTree(8)\n",
    "db.reset()\n",
    "new_tree.train(db)\n",
    "test(new_tree, 1000)"
   ]
  },
  {
   "cell_type": "markdown",
   "metadata": {
    "slideshow": {
     "slide_type": "slide"
    }
   },
   "source": [
    "### let's try now with a forest\n",
    "\n",
    "* use shallow trees (only 4 leaves)\n",
    "* we can play with the learning factor to avoid overfitting"
   ]
  },
  {
   "cell_type": "code",
   "execution_count": 19,
   "metadata": {
    "slideshow": {
     "slide_type": "slide"
    }
   },
   "outputs": [],
   "source": [
    "class RForest:\n",
    "    def __init__(self, forest_size, tree_depth = 3, nu = 0.5):\n",
    "        self.num_trees = forest_size\n",
    "        self.tree_depth = tree_depth\n",
    "        self.nu = nu\n",
    "\n",
    "    def train(self, db):\n",
    "        self.trees = []\n",
    "        # we use one warping per forest. Init the warping based on current shape\n",
    "        #  estimate for each object in the db. \n",
    "        for t in db:\n",
    "            t.warping = t.find_warping(t.estimate)\n",
    "        \n",
    "        for k in xrange(0, self.num_trees):\n",
    "            for t in db:\n",
    "                t.residual = t.shape - t.estimate\n",
    "            # fit weak regressor to residual\n",
    "            rt = RTree(self.tree_depth)\n",
    "            rt.train(db)\n",
    "            # update estimate (but not warping)\n",
    "            for t in db:\n",
    "                t.estimate += self.nu * rt.regress(t, t.warping)\n",
    "            self.trees.append(rt)\n",
    "\n",
    "    def estimate(self, dataobject, prev_est=None):\n",
    "        if prev_est is None:\n",
    "            prev_est = dataobject.mean_shape() \n",
    "        warping = dataobject.find_warping(prev_est)\n",
    "        r = prev_est\n",
    "        for rt in self.trees:\n",
    "            r += self.nu * rt.regress(dataobject, warping)\n",
    "        return r"
   ]
  },
  {
   "cell_type": "code",
   "execution_count": 43,
   "metadata": {
    "slideshow": {
     "slide_type": "slide"
    }
   },
   "outputs": [
    {
     "name": "stdout",
     "output_type": "stream",
     "text": [
      "* * * * * * * * * * * * * * * * * * * *\n"
     ]
    }
   ],
   "source": [
    "forest = RForest(20, 3, 0.5)\n",
    "db.reset()\n",
    "forest.train(db)"
   ]
  },
  {
   "cell_type": "code",
   "execution_count": 59,
   "metadata": {
    "slideshow": {
     "slide_type": "slide"
    }
   },
   "outputs": [
    {
     "data": {
      "image/png": "[encoded data removed]",
      "text/plain": [
       "<matplotlib.figure.Figure at 0xa0d0a58>"
      ]
     },
     "metadata": {},
     "output_type": "display_data"
    }
   ],
   "source": [
    "s = DataObject()\n",
    "est = forest.estimate(s)\n",
    "s.plot(est)"
   ]
  },
  {
   "cell_type": "code",
   "execution_count": 48,
   "metadata": {
    "slideshow": {
     "slide_type": "slide"
    }
   },
   "outputs": [
    {
     "name": "stdout",
     "output_type": "stream",
     "text": [
      "57.3213027004\n"
     ]
    }
   ],
   "source": [
    "test(forest, 1000)"
   ]
  },
  {
   "cell_type": "markdown",
   "metadata": {
    "slideshow": {
     "slide_type": "slide"
    }
   },
   "source": [
    "### moving on to a cascade\n",
    "\n",
    "* learn a cascade of forest regressors\n",
    "* at each stage:\n",
    "    * for each training sample compute the warping between reference shape and current estimate\n",
    "    * warp features locations\n",
    "    * train a forest"
   ]
  },
  {
   "cell_type": "code",
   "execution_count": 23,
   "metadata": {
    "slideshow": {
     "slide_type": "slide"
    }
   },
   "outputs": [],
   "source": [
    "class RCascade:\n",
    "    def __init__(self, stages, forest_size, tree_depth, nu):\n",
    "        self.num_stages = stages\n",
    "        self.forest_size = forest_size\n",
    "        self.tree_depth = tree_depth\n",
    "        self.nu = nu\n",
    "        \n",
    "    def train(self, db):\n",
    "        self.stages = []\n",
    "        db.reset()        \n",
    "        for k in xrange(0, self.num_stages):\n",
    "            forest = RForest(self.forest_size, self.tree_depth, self.nu)\n",
    "            forest.train(db)\n",
    "            self.stages.append(forest)                \n",
    "\n",
    "    def estimate(self, dataobject):\n",
    "        r = dataobject.mean_shape()\n",
    "        for f in self.stages:\n",
    "            r = f.estimate(dataobject, r)\n",
    "        return r\n",
    "    "
   ]
  },
  {
   "cell_type": "code",
   "execution_count": 24,
   "metadata": {
    "slideshow": {
     "slide_type": "slide"
    }
   },
   "outputs": [
    {
     "name": "stdout",
     "output_type": "stream",
     "text": [
      "* * * * * * * * * * * * * * * * * * * * * * * * * * * * * * * * * * * * * * * * * * * * * * * * * * * * * * * * * * * * * * * * * * * * * * * * * * * * * * * *\n"
     ]
    }
   ],
   "source": [
    "cascade = RCascade(4, 20, 3, 0.5)\n",
    "cascade.train(db)"
   ]
  },
  {
   "cell_type": "code",
   "execution_count": 68,
   "metadata": {
    "slideshow": {
     "slide_type": "slide"
    }
   },
   "outputs": [
    {
     "data": {
      "image/png": "[encoded data removed]",
      "text/plain": [
       "<matplotlib.figure.Figure at 0xa188390>"
      ]
     },
     "metadata": {},
     "output_type": "display_data"
    }
   ],
   "source": [
    "s = DataObject()\n",
    "est = cascade.estimate(s)\n",
    "s.plot(est)"
   ]
  },
  {
   "cell_type": "code",
   "execution_count": 26,
   "metadata": {
    "slideshow": {
     "slide_type": "slide"
    }
   },
   "outputs": [
    {
     "name": "stdout",
     "output_type": "stream",
     "text": [
      "567.600372973\n",
      "73.6471957044\n",
      "2.01958782607\n"
     ]
    }
   ],
   "source": [
    "test(tree, 1000)\n",
    "test(forest, 1000)\n",
    "test(cascade, 1000)"
   ]
  },
  {
   "cell_type": "markdown",
   "metadata": {
    "slideshow": {
     "slide_type": "slide"
    }
   },
   "source": [
    "# questions?"
   ]
  },
  {
   "cell_type": "markdown",
   "metadata": {
    "slideshow": {
     "slide_type": "slide"
    }
   },
   "source": [
    "# Thank you.\n",
    "\n",
    "\n",
    "\n",
    "\n",
    "<br>\n",
    "\n",
    "\n",
    "Notebook for the presentation available on GitHub: <a href=\"https://github.com/prandoni/scrapbook\">https://github.com/prandoni/scrapbook</a>\n",
    "\n",
    "Original paper <a href=\"https://www.google.com/url?sa=t&rct=j&q=&esrc=s&source=web&cd=1&cad=rja&uact=8&ved=0ahUKEwjRu7fdl8TZAhXQ16QKHXqjAQcQFggvMAA&url=https%3A%2F%2Fpdfs.semanticscholar.org%2Fd78b%2F6a5b0dcaa81b1faea5fb0000045a62513567.pdf&usg=AOvVaw0ONvefTf2WUL1c-C1tO8D5\">here</a> "
   ]
  }
 ],
 "metadata": {
  "celltoolbar": "Slideshow",
  "kernelspec": {
   "display_name": "Python 3",
   "language": "python",
   "name": "python3"
  },
  "language_info": {
   "codemirror_mode": {
    "name": "ipython",
    "version": 3
   },
   "file_extension": ".py",
   "mimetype": "text/x-python",
   "name": "python",
   "nbconvert_exporter": "python",
   "pygments_lexer": "ipython3",
   "version": "3.6.10"
  },
  "livereveal": {
   "scroll": true,
   "theme": "simple"
  }
 },
 "nbformat": 4,
 "nbformat_minor": 4
}
