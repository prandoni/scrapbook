{
 "cells": [
  {
   "cell_type": "code",
   "execution_count": 2,
   "metadata": {},
   "outputs": [
    {
     "name": "stdout",
     "output_type": "stream",
     "text": [
      "-0.96875\n"
     ]
    }
   ],
   "source": [
    "def Lagrange(N, k, t):\n",
    "    # return k-th Lagrangian polynomial of order N computed in t\n",
    "    v = 1.0\n",
    "    for m in range(0,N+1):\n",
    "        if m == k:\n",
    "            continue\n",
    "        v *= (t-m)/(k-m)\n",
    "    return v\n",
    "            \n",
    "def Interpolate(data, N, n, tau):\n",
    "    \"\"\" \n",
    "    Interpolate data vector with a Lagrangian interpolator of order N\n",
    "    at an offset tau from point n\n",
    "    \"\"\"\n",
    "    # find data points based on order and center point\n",
    "    L = R = int(N/2)\n",
    "    if 2*L != N:\n",
    "        # for odd-ordered interpolators, interval is asymmetric\n",
    "        if tau > 0:\n",
    "            R += 1\n",
    "        else:\n",
    "            L += 1\n",
    "    d = data[n-L:n+R+1]        \n",
    "    \n",
    "    # interpolate\n",
    "    t = L + tau\n",
    "    v = 0.0\n",
    "    for k, s in enumerate(d):\n",
    "        v += s * Lagrange(N, k, t)\n",
    "    return v\n",
    "\n",
    "print(Interpolate([-4, 4, -2, -3, 3], 2, 2, -0.25))"
   ]
  },
  {
   "cell_type": "code",
   "execution_count": null,
   "metadata": {},
   "outputs": [],
   "source": []
  }
 ],
 "metadata": {
  "kernelspec": {
   "display_name": "Python 3",
   "language": "python",
   "name": "python3"
  },
  "language_info": {
   "codemirror_mode": {
    "name": "ipython",
    "version": 3
   },
   "file_extension": ".py",
   "mimetype": "text/x-python",
   "name": "python",
   "nbconvert_exporter": "python",
   "pygments_lexer": "ipython3",
   "version": "3.7.7"
  }
 },
 "nbformat": 4,
 "nbformat_minor": 4
}
